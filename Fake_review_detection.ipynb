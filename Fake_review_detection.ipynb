{
  "nbformat": 4,
  "nbformat_minor": 0,
  "metadata": {
    "colab": {
      "provenance": []
    },
    "kernelspec": {
      "name": "python3",
      "display_name": "Python 3"
    },
    "language_info": {
      "name": "python"
    }
  },
  "cells": [
    {
      "cell_type": "code",
      "source": [
        "from google.colab import files\n",
        "uploaded = files.upload()\n",
        "\n",
        "# After uploading the dataset, proceed with importing necessary libraries\n",
        "import pandas as pd\n",
        "import numpy as np\n",
        "import seaborn as sns\n",
        "import matplotlib.pyplot as plt\n",
        "import re\n",
        "import nltk\n",
        "from nltk.corpus import stopwords\n",
        "from nltk.tokenize import word_tokenize\n",
        "from nltk.stem import WordNetLemmatizer\n",
        "from sklearn.model_selection import train_test_split\n",
        "from sklearn.metrics import classification_report, accuracy_score, confusion_matrix, roc_auc_score, roc_curve\n",
        "from keras.models import Sequential, Model\n",
        "from keras.layers import Dense, LSTM, Embedding, Dropout, Bidirectional, GRU, SpatialDropout1D, Input, BatchNormalization\n",
        "# Import Tokenizer from tensorflow.keras.preprocessing.text\n",
        "from tensorflow.keras.preprocessing.text import Tokenizer\n",
        "from tensorflow.keras.preprocessing.sequence import pad_sequences # Import pad_sequences from tensorflow.keras.preprocessing.sequence\n",
        "from keras.callbacks import EarlyStopping\n",
        "from sklearn.utils import shuffle\n",
        "\n",
        "# Download NLTK resources\n",
        "nltk.download('punkt')\n",
        "nltk.download('stopwords')\n",
        "nltk.download('wordnet')\n",
        "# After uploading the dataset, proceed with importing necessary libraries\n",
        "import pandas as pd\n",
        "import numpy as np\n",
        "import seaborn as sns\n",
        "import matplotlib.pyplot as plt\n",
        "import re\n",
        "import nltk\n",
        "from nltk.corpus import stopwords\n",
        "from nltk.tokenize import word_tokenize\n",
        "from nltk.stem import WordNetLemmatizer\n",
        "from sklearn.model_selection import train_test_split\n",
        "from sklearn.metrics import classification_report, accuracy_score, confusion_matrix, roc_auc_score, roc_curve\n",
        "from keras.models import Sequential, Model\n",
        "from keras.layers import Dense, LSTM, Embedding, Dropout, Bidirectional, GRU, SpatialDropout1D, Input, BatchNormalization\n",
        "# Import Tokenizer from tensorflow.keras.preprocessing.text\n",
        "from tensorflow.keras.preprocessing.text import Tokenizer\n",
        "from tensorflow.keras.preprocessing.sequence import pad_sequences # Import pad_sequences from tensorflow.keras.preprocessing.sequence\n",
        "from keras.callbacks import EarlyStopping\n",
        "from sklearn.utils import shuffle\n",
        "\n",
        "# Download NLTK resources\n",
        "nltk.download('punkt')\n",
        "nltk.download('stopwords')\n",
        "nltk.download('wordnet')"
      ],
      "metadata": {
        "colab": {
          "base_uri": "https://localhost:8080/",
          "height": 279
        },
        "id": "TpPNrnzPur12",
        "outputId": "738aecb6-3a02-4538-af7c-3567b3929c54"
      },
      "execution_count": null,
      "outputs": [
        {
          "output_type": "display_data",
          "data": {
            "text/plain": [
              "<IPython.core.display.HTML object>"
            ],
            "text/html": [
              "\n",
              "     <input type=\"file\" id=\"files-32a88153-a478-48a9-9c5e-f6ef9ebbade7\" name=\"files[]\" multiple disabled\n",
              "        style=\"border:none\" />\n",
              "     <output id=\"result-32a88153-a478-48a9-9c5e-f6ef9ebbade7\">\n",
              "      Upload widget is only available when the cell has been executed in the\n",
              "      current browser session. Please rerun this cell to enable.\n",
              "      </output>\n",
              "      <script>// Copyright 2017 Google LLC\n",
              "//\n",
              "// Licensed under the Apache License, Version 2.0 (the \"License\");\n",
              "// you may not use this file except in compliance with the License.\n",
              "// You may obtain a copy of the License at\n",
              "//\n",
              "//      http://www.apache.org/licenses/LICENSE-2.0\n",
              "//\n",
              "// Unless required by applicable law or agreed to in writing, software\n",
              "// distributed under the License is distributed on an \"AS IS\" BASIS,\n",
              "// WITHOUT WARRANTIES OR CONDITIONS OF ANY KIND, either express or implied.\n",
              "// See the License for the specific language governing permissions and\n",
              "// limitations under the License.\n",
              "\n",
              "/**\n",
              " * @fileoverview Helpers for google.colab Python module.\n",
              " */\n",
              "(function(scope) {\n",
              "function span(text, styleAttributes = {}) {\n",
              "  const element = document.createElement('span');\n",
              "  element.textContent = text;\n",
              "  for (const key of Object.keys(styleAttributes)) {\n",
              "    element.style[key] = styleAttributes[key];\n",
              "  }\n",
              "  return element;\n",
              "}\n",
              "\n",
              "// Max number of bytes which will be uploaded at a time.\n",
              "const MAX_PAYLOAD_SIZE = 100 * 1024;\n",
              "\n",
              "function _uploadFiles(inputId, outputId) {\n",
              "  const steps = uploadFilesStep(inputId, outputId);\n",
              "  const outputElement = document.getElementById(outputId);\n",
              "  // Cache steps on the outputElement to make it available for the next call\n",
              "  // to uploadFilesContinue from Python.\n",
              "  outputElement.steps = steps;\n",
              "\n",
              "  return _uploadFilesContinue(outputId);\n",
              "}\n",
              "\n",
              "// This is roughly an async generator (not supported in the browser yet),\n",
              "// where there are multiple asynchronous steps and the Python side is going\n",
              "// to poll for completion of each step.\n",
              "// This uses a Promise to block the python side on completion of each step,\n",
              "// then passes the result of the previous step as the input to the next step.\n",
              "function _uploadFilesContinue(outputId) {\n",
              "  const outputElement = document.getElementById(outputId);\n",
              "  const steps = outputElement.steps;\n",
              "\n",
              "  const next = steps.next(outputElement.lastPromiseValue);\n",
              "  return Promise.resolve(next.value.promise).then((value) => {\n",
              "    // Cache the last promise value to make it available to the next\n",
              "    // step of the generator.\n",
              "    outputElement.lastPromiseValue = value;\n",
              "    return next.value.response;\n",
              "  });\n",
              "}\n",
              "\n",
              "/**\n",
              " * Generator function which is called between each async step of the upload\n",
              " * process.\n",
              " * @param {string} inputId Element ID of the input file picker element.\n",
              " * @param {string} outputId Element ID of the output display.\n",
              " * @return {!Iterable<!Object>} Iterable of next steps.\n",
              " */\n",
              "function* uploadFilesStep(inputId, outputId) {\n",
              "  const inputElement = document.getElementById(inputId);\n",
              "  inputElement.disabled = false;\n",
              "\n",
              "  const outputElement = document.getElementById(outputId);\n",
              "  outputElement.innerHTML = '';\n",
              "\n",
              "  const pickedPromise = new Promise((resolve) => {\n",
              "    inputElement.addEventListener('change', (e) => {\n",
              "      resolve(e.target.files);\n",
              "    });\n",
              "  });\n",
              "\n",
              "  const cancel = document.createElement('button');\n",
              "  inputElement.parentElement.appendChild(cancel);\n",
              "  cancel.textContent = 'Cancel upload';\n",
              "  const cancelPromise = new Promise((resolve) => {\n",
              "    cancel.onclick = () => {\n",
              "      resolve(null);\n",
              "    };\n",
              "  });\n",
              "\n",
              "  // Wait for the user to pick the files.\n",
              "  const files = yield {\n",
              "    promise: Promise.race([pickedPromise, cancelPromise]),\n",
              "    response: {\n",
              "      action: 'starting',\n",
              "    }\n",
              "  };\n",
              "\n",
              "  cancel.remove();\n",
              "\n",
              "  // Disable the input element since further picks are not allowed.\n",
              "  inputElement.disabled = true;\n",
              "\n",
              "  if (!files) {\n",
              "    return {\n",
              "      response: {\n",
              "        action: 'complete',\n",
              "      }\n",
              "    };\n",
              "  }\n",
              "\n",
              "  for (const file of files) {\n",
              "    const li = document.createElement('li');\n",
              "    li.append(span(file.name, {fontWeight: 'bold'}));\n",
              "    li.append(span(\n",
              "        `(${file.type || 'n/a'}) - ${file.size} bytes, ` +\n",
              "        `last modified: ${\n",
              "            file.lastModifiedDate ? file.lastModifiedDate.toLocaleDateString() :\n",
              "                                    'n/a'} - `));\n",
              "    const percent = span('0% done');\n",
              "    li.appendChild(percent);\n",
              "\n",
              "    outputElement.appendChild(li);\n",
              "\n",
              "    const fileDataPromise = new Promise((resolve) => {\n",
              "      const reader = new FileReader();\n",
              "      reader.onload = (e) => {\n",
              "        resolve(e.target.result);\n",
              "      };\n",
              "      reader.readAsArrayBuffer(file);\n",
              "    });\n",
              "    // Wait for the data to be ready.\n",
              "    let fileData = yield {\n",
              "      promise: fileDataPromise,\n",
              "      response: {\n",
              "        action: 'continue',\n",
              "      }\n",
              "    };\n",
              "\n",
              "    // Use a chunked sending to avoid message size limits. See b/62115660.\n",
              "    let position = 0;\n",
              "    do {\n",
              "      const length = Math.min(fileData.byteLength - position, MAX_PAYLOAD_SIZE);\n",
              "      const chunk = new Uint8Array(fileData, position, length);\n",
              "      position += length;\n",
              "\n",
              "      const base64 = btoa(String.fromCharCode.apply(null, chunk));\n",
              "      yield {\n",
              "        response: {\n",
              "          action: 'append',\n",
              "          file: file.name,\n",
              "          data: base64,\n",
              "        },\n",
              "      };\n",
              "\n",
              "      let percentDone = fileData.byteLength === 0 ?\n",
              "          100 :\n",
              "          Math.round((position / fileData.byteLength) * 100);\n",
              "      percent.textContent = `${percentDone}% done`;\n",
              "\n",
              "    } while (position < fileData.byteLength);\n",
              "  }\n",
              "\n",
              "  // All done.\n",
              "  yield {\n",
              "    response: {\n",
              "      action: 'complete',\n",
              "    }\n",
              "  };\n",
              "}\n",
              "\n",
              "scope.google = scope.google || {};\n",
              "scope.google.colab = scope.google.colab || {};\n",
              "scope.google.colab._files = {\n",
              "  _uploadFiles,\n",
              "  _uploadFilesContinue,\n",
              "};\n",
              "})(self);\n",
              "</script> "
            ]
          },
          "metadata": {}
        },
        {
          "output_type": "stream",
          "name": "stdout",
          "text": [
            "Saving archive (3).zip to archive (3).zip\n"
          ]
        },
        {
          "output_type": "stream",
          "name": "stderr",
          "text": [
            "[nltk_data] Downloading package punkt to /root/nltk_data...\n",
            "[nltk_data]   Unzipping tokenizers/punkt.zip.\n",
            "[nltk_data] Downloading package stopwords to /root/nltk_data...\n",
            "[nltk_data]   Unzipping corpora/stopwords.zip.\n",
            "[nltk_data] Downloading package wordnet to /root/nltk_data...\n",
            "[nltk_data] Downloading package punkt to /root/nltk_data...\n",
            "[nltk_data]   Package punkt is already up-to-date!\n",
            "[nltk_data] Downloading package stopwords to /root/nltk_data...\n",
            "[nltk_data]   Package stopwords is already up-to-date!\n",
            "[nltk_data] Downloading package wordnet to /root/nltk_data...\n",
            "[nltk_data]   Package wordnet is already up-to-date!\n"
          ]
        },
        {
          "output_type": "execute_result",
          "data": {
            "text/plain": [
              "True"
            ]
          },
          "metadata": {},
          "execution_count": 5
        }
      ]
    },
    {
      "cell_type": "code",
      "source": [
        "import zipfile\n",
        "import os\n",
        "\n",
        "# Upload the zip file\n",
        "from google.colab import files\n",
        "uploaded = files.upload()\n",
        "\n",
        "# Extract the ZIP file\n",
        "zip_file_name = next(iter(uploaded))  # Get the name of the uploaded file\n",
        "extracted_folder = '/content/extracted_files/'\n",
        "\n",
        "# Create the folder to store extracted files\n",
        "os.makedirs(extracted_folder, exist_ok=True)\n",
        "\n",
        "# Extract the ZIP file\n",
        "with zipfile.ZipFile(zip_file_name, 'r') as zip_ref:\n",
        "    zip_ref.extractall(extracted_folder)\n",
        "\n",
        "# List the extracted files to see what's inside\n",
        "extracted_files = os.listdir(extracted_folder)\n",
        "print(\"Extracted files:\", extracted_files)\n",
        "\n",
        "# Load the CSV file from the extracted folder (replace 'yourfile.csv' with actual filename)\n",
        "csv_file_path = os.path.join(extracted_folder, extracted_files[0])  # assuming the CSV is the first file\n",
        "df = pd.read_csv(csv_file_path)\n",
        "\n",
        "# Print the actual column names in your DataFrame\n",
        "print(df.columns)\n",
        "\n",
        "# Data Preprocessing\n",
        "# Update to the actual column names from your dataset\n",
        "df = df[['category', 'rating']]  # Adjust column names according to the dataset's format\n",
        "df = df.dropna()  # Remove any rows with missing values\n",
        "# Assuming 'rating' column contains labels: 0 or 1\n",
        "df['label'] = df['rating'].map({1.0: 0, 2.0: 0, 3.0: 0, 4.0: 1, 5.0: 1})\n",
        "df = shuffle(df).reset_index(drop=True)\n",
        "df = df[['text_', 'label']] # Select only the desired columns\n",
        "\n",
        "# Rename the 'category' column to 'text'\n",
        "df = df.rename(columns={'text_': 'text'})\n",
        "\n",
        "# Display first few rows to understand the structure\n",
        "print(\"\\nDataset Shape:\", df.shape)\n",
        "print(\"\\nLabel Distribution:\\n\", df['label'].value_counts())\n",
        "print(\"\\nSample Data:\")\n",
        "print(df.head())"
      ],
      "metadata": {
        "colab": {
          "base_uri": "https://localhost:8080/",
          "height": 383
        },
        "id": "LhxGi5A7w8-I",
        "outputId": "de0d6909-02e6-4d1b-82c6-f4ad16d8778f"
      },
      "execution_count": null,
      "outputs": [
        {
          "output_type": "display_data",
          "data": {
            "text/plain": [
              "<IPython.core.display.HTML object>"
            ],
            "text/html": [
              "\n",
              "     <input type=\"file\" id=\"files-d3dbd5ae-420a-48a1-ba9b-45212ab601cc\" name=\"files[]\" multiple disabled\n",
              "        style=\"border:none\" />\n",
              "     <output id=\"result-d3dbd5ae-420a-48a1-ba9b-45212ab601cc\">\n",
              "      Upload widget is only available when the cell has been executed in the\n",
              "      current browser session. Please rerun this cell to enable.\n",
              "      </output>\n",
              "      <script>// Copyright 2017 Google LLC\n",
              "//\n",
              "// Licensed under the Apache License, Version 2.0 (the \"License\");\n",
              "// you may not use this file except in compliance with the License.\n",
              "// You may obtain a copy of the License at\n",
              "//\n",
              "//      http://www.apache.org/licenses/LICENSE-2.0\n",
              "//\n",
              "// Unless required by applicable law or agreed to in writing, software\n",
              "// distributed under the License is distributed on an \"AS IS\" BASIS,\n",
              "// WITHOUT WARRANTIES OR CONDITIONS OF ANY KIND, either express or implied.\n",
              "// See the License for the specific language governing permissions and\n",
              "// limitations under the License.\n",
              "\n",
              "/**\n",
              " * @fileoverview Helpers for google.colab Python module.\n",
              " */\n",
              "(function(scope) {\n",
              "function span(text, styleAttributes = {}) {\n",
              "  const element = document.createElement('span');\n",
              "  element.textContent = text;\n",
              "  for (const key of Object.keys(styleAttributes)) {\n",
              "    element.style[key] = styleAttributes[key];\n",
              "  }\n",
              "  return element;\n",
              "}\n",
              "\n",
              "// Max number of bytes which will be uploaded at a time.\n",
              "const MAX_PAYLOAD_SIZE = 100 * 1024;\n",
              "\n",
              "function _uploadFiles(inputId, outputId) {\n",
              "  const steps = uploadFilesStep(inputId, outputId);\n",
              "  const outputElement = document.getElementById(outputId);\n",
              "  // Cache steps on the outputElement to make it available for the next call\n",
              "  // to uploadFilesContinue from Python.\n",
              "  outputElement.steps = steps;\n",
              "\n",
              "  return _uploadFilesContinue(outputId);\n",
              "}\n",
              "\n",
              "// This is roughly an async generator (not supported in the browser yet),\n",
              "// where there are multiple asynchronous steps and the Python side is going\n",
              "// to poll for completion of each step.\n",
              "// This uses a Promise to block the python side on completion of each step,\n",
              "// then passes the result of the previous step as the input to the next step.\n",
              "function _uploadFilesContinue(outputId) {\n",
              "  const outputElement = document.getElementById(outputId);\n",
              "  const steps = outputElement.steps;\n",
              "\n",
              "  const next = steps.next(outputElement.lastPromiseValue);\n",
              "  return Promise.resolve(next.value.promise).then((value) => {\n",
              "    // Cache the last promise value to make it available to the next\n",
              "    // step of the generator.\n",
              "    outputElement.lastPromiseValue = value;\n",
              "    return next.value.response;\n",
              "  });\n",
              "}\n",
              "\n",
              "/**\n",
              " * Generator function which is called between each async step of the upload\n",
              " * process.\n",
              " * @param {string} inputId Element ID of the input file picker element.\n",
              " * @param {string} outputId Element ID of the output display.\n",
              " * @return {!Iterable<!Object>} Iterable of next steps.\n",
              " */\n",
              "function* uploadFilesStep(inputId, outputId) {\n",
              "  const inputElement = document.getElementById(inputId);\n",
              "  inputElement.disabled = false;\n",
              "\n",
              "  const outputElement = document.getElementById(outputId);\n",
              "  outputElement.innerHTML = '';\n",
              "\n",
              "  const pickedPromise = new Promise((resolve) => {\n",
              "    inputElement.addEventListener('change', (e) => {\n",
              "      resolve(e.target.files);\n",
              "    });\n",
              "  });\n",
              "\n",
              "  const cancel = document.createElement('button');\n",
              "  inputElement.parentElement.appendChild(cancel);\n",
              "  cancel.textContent = 'Cancel upload';\n",
              "  const cancelPromise = new Promise((resolve) => {\n",
              "    cancel.onclick = () => {\n",
              "      resolve(null);\n",
              "    };\n",
              "  });\n",
              "\n",
              "  // Wait for the user to pick the files.\n",
              "  const files = yield {\n",
              "    promise: Promise.race([pickedPromise, cancelPromise]),\n",
              "    response: {\n",
              "      action: 'starting',\n",
              "    }\n",
              "  };\n",
              "\n",
              "  cancel.remove();\n",
              "\n",
              "  // Disable the input element since further picks are not allowed.\n",
              "  inputElement.disabled = true;\n",
              "\n",
              "  if (!files) {\n",
              "    return {\n",
              "      response: {\n",
              "        action: 'complete',\n",
              "      }\n",
              "    };\n",
              "  }\n",
              "\n",
              "  for (const file of files) {\n",
              "    const li = document.createElement('li');\n",
              "    li.append(span(file.name, {fontWeight: 'bold'}));\n",
              "    li.append(span(\n",
              "        `(${file.type || 'n/a'}) - ${file.size} bytes, ` +\n",
              "        `last modified: ${\n",
              "            file.lastModifiedDate ? file.lastModifiedDate.toLocaleDateString() :\n",
              "                                    'n/a'} - `));\n",
              "    const percent = span('0% done');\n",
              "    li.appendChild(percent);\n",
              "\n",
              "    outputElement.appendChild(li);\n",
              "\n",
              "    const fileDataPromise = new Promise((resolve) => {\n",
              "      const reader = new FileReader();\n",
              "      reader.onload = (e) => {\n",
              "        resolve(e.target.result);\n",
              "      };\n",
              "      reader.readAsArrayBuffer(file);\n",
              "    });\n",
              "    // Wait for the data to be ready.\n",
              "    let fileData = yield {\n",
              "      promise: fileDataPromise,\n",
              "      response: {\n",
              "        action: 'continue',\n",
              "      }\n",
              "    };\n",
              "\n",
              "    // Use a chunked sending to avoid message size limits. See b/62115660.\n",
              "    let position = 0;\n",
              "    do {\n",
              "      const length = Math.min(fileData.byteLength - position, MAX_PAYLOAD_SIZE);\n",
              "      const chunk = new Uint8Array(fileData, position, length);\n",
              "      position += length;\n",
              "\n",
              "      const base64 = btoa(String.fromCharCode.apply(null, chunk));\n",
              "      yield {\n",
              "        response: {\n",
              "          action: 'append',\n",
              "          file: file.name,\n",
              "          data: base64,\n",
              "        },\n",
              "      };\n",
              "\n",
              "      let percentDone = fileData.byteLength === 0 ?\n",
              "          100 :\n",
              "          Math.round((position / fileData.byteLength) * 100);\n",
              "      percent.textContent = `${percentDone}% done`;\n",
              "\n",
              "    } while (position < fileData.byteLength);\n",
              "  }\n",
              "\n",
              "  // All done.\n",
              "  yield {\n",
              "    response: {\n",
              "      action: 'complete',\n",
              "    }\n",
              "  };\n",
              "}\n",
              "\n",
              "scope.google = scope.google || {};\n",
              "scope.google.colab = scope.google.colab || {};\n",
              "scope.google.colab._files = {\n",
              "  _uploadFiles,\n",
              "  _uploadFilesContinue,\n",
              "};\n",
              "})(self);\n",
              "</script> "
            ]
          },
          "metadata": {}
        },
        {
          "output_type": "stream",
          "name": "stdout",
          "text": [
            "Saving archive (3).zip to archive (3) (1).zip\n",
            "Extracted files: ['fake reviews dataset.csv']\n",
            "Index(['category', 'rating', 'label', 'text_'], dtype='object')\n",
            "\n",
            "Dataset Shape: (40432, 2)\n",
            "\n",
            "Label Distribution:\n",
            " label\n",
            "1    24559\n",
            "0    15873\n",
            "Name: count, dtype: int64\n",
            "\n",
            "Sample Data:\n",
            "                           text  label\n",
            "0  Clothing_Shoes_and_Jewelry_5      0\n",
            "1               Movies_and_TV_5      1\n",
            "2            Home_and_Kitchen_5      1\n",
            "3                       Books_5      0\n",
            "4                 Electronics_5      1\n"
          ]
        }
      ]
    },
    {
      "cell_type": "code",
      "source": [
        "#Preprocessing text\n",
        "import nltk\n",
        "nltk.download('punkt')\n",
        "nltk.download('stopwords')\n",
        "nltk.download('wordnet')\n",
        "nltk.download('punkt_tab') # Download the punkt_tab resource\n",
        "stop_words = set(stopwords.words('english'))\n",
        "lemmatizer = WordNetLemmatizer()\n",
        "\n",
        "def preprocess_text(text):\n",
        "    text = re.sub(r'http\\S+|www\\S+', '', text)  # Remove URLs\n",
        "    text = re.sub(r'[^a-zA-Z]', ' ', text)  # Remove non-alphabet characters\n",
        "    text = text.lower()  # Convert to lowercase\n",
        "    tokens = word_tokenize(text)\n",
        "    tokens = [lemmatizer.lemmatize(word) for word in tokens if word not in stop_words and len(word) > 2]\n",
        "    return ' '.join(tokens)\n",
        "\n",
        "df['cleaned_review'] = df['text'].apply(preprocess_text)\n",
        "\n",
        "# Display some cleaned reviews\n",
        "print(df['cleaned_review'].head())\n"
      ],
      "metadata": {
        "colab": {
          "base_uri": "https://localhost:8080/"
        },
        "id": "_LWFGncXx4F7",
        "outputId": "1ddc80d6-a34f-4325-d68d-a283d972e61d"
      },
      "execution_count": null,
      "outputs": [
        {
          "output_type": "stream",
          "name": "stderr",
          "text": [
            "[nltk_data] Downloading package punkt to /root/nltk_data...\n",
            "[nltk_data]   Package punkt is already up-to-date!\n",
            "[nltk_data] Downloading package stopwords to /root/nltk_data...\n",
            "[nltk_data]   Package stopwords is already up-to-date!\n",
            "[nltk_data] Downloading package wordnet to /root/nltk_data...\n",
            "[nltk_data]   Package wordnet is already up-to-date!\n",
            "[nltk_data] Downloading package punkt_tab to /root/nltk_data...\n",
            "[nltk_data]   Unzipping tokenizers/punkt_tab.zip.\n"
          ]
        },
        {
          "output_type": "stream",
          "name": "stdout",
          "text": [
            "0    clothing shoe jewelry\n",
            "1                    movie\n",
            "2             home kitchen\n",
            "3                     book\n",
            "4              electronics\n",
            "Name: cleaned_review, dtype: object\n"
          ]
        }
      ]
    },
    {
      "cell_type": "code",
      "source": [
        "import nltk\n",
        "nltk.download('punkt')\n",
        "nltk.download('stopwords')\n",
        "nltk.download('wordnet')\n",
        "nltk.download('punkt_tab') # Download the punkt_tab resource"
      ],
      "metadata": {
        "colab": {
          "base_uri": "https://localhost:8080/"
        },
        "id": "UazUGvbFxtHp",
        "outputId": "e6099111-e9c2-432b-a311-8ccb28b24c8b"
      },
      "execution_count": null,
      "outputs": [
        {
          "output_type": "stream",
          "name": "stderr",
          "text": [
            "[nltk_data] Downloading package punkt to /root/nltk_data...\n",
            "[nltk_data]   Package punkt is already up-to-date!\n",
            "[nltk_data] Downloading package stopwords to /root/nltk_data...\n",
            "[nltk_data]   Package stopwords is already up-to-date!\n",
            "[nltk_data] Downloading package wordnet to /root/nltk_data...\n",
            "[nltk_data]   Package wordnet is already up-to-date!\n",
            "[nltk_data] Downloading package punkt_tab to /root/nltk_data...\n",
            "[nltk_data]   Unzipping tokenizers/punkt_tab.zip.\n"
          ]
        },
        {
          "output_type": "execute_result",
          "data": {
            "text/plain": [
              "True"
            ]
          },
          "metadata": {},
          "execution_count": 6
        }
      ]
    },
    {
      "cell_type": "code",
      "source": [
        "# Tokenize the text data\n",
        "tokenizer = Tokenizer(num_words=10000)\n",
        "tokenizer.fit_on_texts(df['cleaned_review'])\n",
        "sequences = tokenizer.texts_to_sequences(df['cleaned_review'])\n",
        "padded = pad_sequences(sequences, maxlen=250)  # Maximum length of sequences\n",
        "\n",
        "# Prepare data for training\n",
        "X = padded\n",
        "y = df['label'].values\n",
        "\n",
        "# Split the dataset into training and validation sets\n",
        "X_train, X_valid, y_train, y_valid = train_test_split(X, y, test_size=0.2, random_state=42)\n"
      ],
      "metadata": {
        "id": "RrFDNaHXyg34"
      },
      "execution_count": null,
      "outputs": []
    },
    {
      "cell_type": "code",
      "source": [
        "# BiLSTM Model\n",
        "bilstm_model = Sequential()\n",
        "bilstm_model.add(Embedding(input_dim=10000, output_dim=128, input_length=250))\n",
        "bilstm_model.add(SpatialDropout1D(0.3))\n",
        "bilstm_model.add(Bidirectional(LSTM(64, return_sequences=True)))\n",
        "bilstm_model.add(Bidirectional(LSTM(64)))\n",
        "bilstm_model.add(Dense(128, activation='relu'))\n",
        "bilstm_model.add(Dropout(0.5))\n",
        "bilstm_model.add(Dense(1, activation='sigmoid'))\n",
        "bilstm_model.compile(optimizer='adam', loss='binary_crossentropy', metrics=['accuracy'])\n",
        "bilstm_model.summary()\n",
        "\n",
        "# GRU Model\n",
        "gru_model = Sequential()\n",
        "gru_model.add(Embedding(input_dim=10000, output_dim=128, input_length=250))\n",
        "gru_model.add(SpatialDropout1D(0.3))\n",
        "gru_model.add(Bidirectional(GRU(64, return_sequences=True)))\n",
        "gru_model.add(Bidirectional(GRU(64)))\n",
        "gru_model.add(Dense(128, activation='relu'))\n",
        "gru_model.add(Dropout(0.5))\n",
        "gru_model.add(Dense(1, activation='sigmoid'))\n",
        "gru_model.compile(optimizer='adam', loss='binary_crossentropy', metrics=['accuracy'])\n",
        "gru_model.summary()"
      ],
      "metadata": {
        "colab": {
          "base_uri": "https://localhost:8080/",
          "height": 756
        },
        "id": "-xcAfAYDymhV",
        "outputId": "5d9a9620-5922-40d4-d866-87bb5d4b0bdc"
      },
      "execution_count": null,
      "outputs": [
        {
          "output_type": "stream",
          "name": "stderr",
          "text": [
            "/usr/local/lib/python3.11/dist-packages/keras/src/layers/core/embedding.py:90: UserWarning: Argument `input_length` is deprecated. Just remove it.\n",
            "  warnings.warn(\n"
          ]
        },
        {
          "output_type": "display_data",
          "data": {
            "text/plain": [
              "\u001b[1mModel: \"sequential\"\u001b[0m\n"
            ],
            "text/html": [
              "<pre style=\"white-space:pre;overflow-x:auto;line-height:normal;font-family:Menlo,'DejaVu Sans Mono',consolas,'Courier New',monospace\"><span style=\"font-weight: bold\">Model: \"sequential\"</span>\n",
              "</pre>\n"
            ]
          },
          "metadata": {}
        },
        {
          "output_type": "display_data",
          "data": {
            "text/plain": [
              "┏━━━━━━━━━━━━━━━━━━━━━━━━━━━━━━━━━┳━━━━━━━━━━━━━━━━━━━━━━━━┳━━━━━━━━━━━━━━━┓\n",
              "┃\u001b[1m \u001b[0m\u001b[1mLayer (type)                   \u001b[0m\u001b[1m \u001b[0m┃\u001b[1m \u001b[0m\u001b[1mOutput Shape          \u001b[0m\u001b[1m \u001b[0m┃\u001b[1m \u001b[0m\u001b[1m      Param #\u001b[0m\u001b[1m \u001b[0m┃\n",
              "┡━━━━━━━━━━━━━━━━━━━━━━━━━━━━━━━━━╇━━━━━━━━━━━━━━━━━━━━━━━━╇━━━━━━━━━━━━━━━┩\n",
              "│ embedding (\u001b[38;5;33mEmbedding\u001b[0m)           │ ?                      │   \u001b[38;5;34m0\u001b[0m (unbuilt) │\n",
              "├─────────────────────────────────┼────────────────────────┼───────────────┤\n",
              "│ spatial_dropout1d               │ ?                      │             \u001b[38;5;34m0\u001b[0m │\n",
              "│ (\u001b[38;5;33mSpatialDropout1D\u001b[0m)              │                        │               │\n",
              "├─────────────────────────────────┼────────────────────────┼───────────────┤\n",
              "│ bidirectional (\u001b[38;5;33mBidirectional\u001b[0m)   │ ?                      │   \u001b[38;5;34m0\u001b[0m (unbuilt) │\n",
              "├─────────────────────────────────┼────────────────────────┼───────────────┤\n",
              "│ bidirectional_1 (\u001b[38;5;33mBidirectional\u001b[0m) │ ?                      │   \u001b[38;5;34m0\u001b[0m (unbuilt) │\n",
              "├─────────────────────────────────┼────────────────────────┼───────────────┤\n",
              "│ dense (\u001b[38;5;33mDense\u001b[0m)                   │ ?                      │   \u001b[38;5;34m0\u001b[0m (unbuilt) │\n",
              "├─────────────────────────────────┼────────────────────────┼───────────────┤\n",
              "│ dropout (\u001b[38;5;33mDropout\u001b[0m)               │ ?                      │             \u001b[38;5;34m0\u001b[0m │\n",
              "├─────────────────────────────────┼────────────────────────┼───────────────┤\n",
              "│ dense_1 (\u001b[38;5;33mDense\u001b[0m)                 │ ?                      │   \u001b[38;5;34m0\u001b[0m (unbuilt) │\n",
              "└─────────────────────────────────┴────────────────────────┴───────────────┘\n"
            ],
            "text/html": [
              "<pre style=\"white-space:pre;overflow-x:auto;line-height:normal;font-family:Menlo,'DejaVu Sans Mono',consolas,'Courier New',monospace\">┏━━━━━━━━━━━━━━━━━━━━━━━━━━━━━━━━━┳━━━━━━━━━━━━━━━━━━━━━━━━┳━━━━━━━━━━━━━━━┓\n",
              "┃<span style=\"font-weight: bold\"> Layer (type)                    </span>┃<span style=\"font-weight: bold\"> Output Shape           </span>┃<span style=\"font-weight: bold\">       Param # </span>┃\n",
              "┡━━━━━━━━━━━━━━━━━━━━━━━━━━━━━━━━━╇━━━━━━━━━━━━━━━━━━━━━━━━╇━━━━━━━━━━━━━━━┩\n",
              "│ embedding (<span style=\"color: #0087ff; text-decoration-color: #0087ff\">Embedding</span>)           │ ?                      │   <span style=\"color: #00af00; text-decoration-color: #00af00\">0</span> (unbuilt) │\n",
              "├─────────────────────────────────┼────────────────────────┼───────────────┤\n",
              "│ spatial_dropout1d               │ ?                      │             <span style=\"color: #00af00; text-decoration-color: #00af00\">0</span> │\n",
              "│ (<span style=\"color: #0087ff; text-decoration-color: #0087ff\">SpatialDropout1D</span>)              │                        │               │\n",
              "├─────────────────────────────────┼────────────────────────┼───────────────┤\n",
              "│ bidirectional (<span style=\"color: #0087ff; text-decoration-color: #0087ff\">Bidirectional</span>)   │ ?                      │   <span style=\"color: #00af00; text-decoration-color: #00af00\">0</span> (unbuilt) │\n",
              "├─────────────────────────────────┼────────────────────────┼───────────────┤\n",
              "│ bidirectional_1 (<span style=\"color: #0087ff; text-decoration-color: #0087ff\">Bidirectional</span>) │ ?                      │   <span style=\"color: #00af00; text-decoration-color: #00af00\">0</span> (unbuilt) │\n",
              "├─────────────────────────────────┼────────────────────────┼───────────────┤\n",
              "│ dense (<span style=\"color: #0087ff; text-decoration-color: #0087ff\">Dense</span>)                   │ ?                      │   <span style=\"color: #00af00; text-decoration-color: #00af00\">0</span> (unbuilt) │\n",
              "├─────────────────────────────────┼────────────────────────┼───────────────┤\n",
              "│ dropout (<span style=\"color: #0087ff; text-decoration-color: #0087ff\">Dropout</span>)               │ ?                      │             <span style=\"color: #00af00; text-decoration-color: #00af00\">0</span> │\n",
              "├─────────────────────────────────┼────────────────────────┼───────────────┤\n",
              "│ dense_1 (<span style=\"color: #0087ff; text-decoration-color: #0087ff\">Dense</span>)                 │ ?                      │   <span style=\"color: #00af00; text-decoration-color: #00af00\">0</span> (unbuilt) │\n",
              "└─────────────────────────────────┴────────────────────────┴───────────────┘\n",
              "</pre>\n"
            ]
          },
          "metadata": {}
        },
        {
          "output_type": "display_data",
          "data": {
            "text/plain": [
              "\u001b[1m Total params: \u001b[0m\u001b[38;5;34m0\u001b[0m (0.00 B)\n"
            ],
            "text/html": [
              "<pre style=\"white-space:pre;overflow-x:auto;line-height:normal;font-family:Menlo,'DejaVu Sans Mono',consolas,'Courier New',monospace\"><span style=\"font-weight: bold\"> Total params: </span><span style=\"color: #00af00; text-decoration-color: #00af00\">0</span> (0.00 B)\n",
              "</pre>\n"
            ]
          },
          "metadata": {}
        },
        {
          "output_type": "display_data",
          "data": {
            "text/plain": [
              "\u001b[1m Trainable params: \u001b[0m\u001b[38;5;34m0\u001b[0m (0.00 B)\n"
            ],
            "text/html": [
              "<pre style=\"white-space:pre;overflow-x:auto;line-height:normal;font-family:Menlo,'DejaVu Sans Mono',consolas,'Courier New',monospace\"><span style=\"font-weight: bold\"> Trainable params: </span><span style=\"color: #00af00; text-decoration-color: #00af00\">0</span> (0.00 B)\n",
              "</pre>\n"
            ]
          },
          "metadata": {}
        },
        {
          "output_type": "display_data",
          "data": {
            "text/plain": [
              "\u001b[1m Non-trainable params: \u001b[0m\u001b[38;5;34m0\u001b[0m (0.00 B)\n"
            ],
            "text/html": [
              "<pre style=\"white-space:pre;overflow-x:auto;line-height:normal;font-family:Menlo,'DejaVu Sans Mono',consolas,'Courier New',monospace\"><span style=\"font-weight: bold\"> Non-trainable params: </span><span style=\"color: #00af00; text-decoration-color: #00af00\">0</span> (0.00 B)\n",
              "</pre>\n"
            ]
          },
          "metadata": {}
        },
        {
          "output_type": "display_data",
          "data": {
            "text/plain": [
              "\u001b[1mModel: \"sequential_1\"\u001b[0m\n"
            ],
            "text/html": [
              "<pre style=\"white-space:pre;overflow-x:auto;line-height:normal;font-family:Menlo,'DejaVu Sans Mono',consolas,'Courier New',monospace\"><span style=\"font-weight: bold\">Model: \"sequential_1\"</span>\n",
              "</pre>\n"
            ]
          },
          "metadata": {}
        },
        {
          "output_type": "display_data",
          "data": {
            "text/plain": [
              "┏━━━━━━━━━━━━━━━━━━━━━━━━━━━━━━━━━┳━━━━━━━━━━━━━━━━━━━━━━━━┳━━━━━━━━━━━━━━━┓\n",
              "┃\u001b[1m \u001b[0m\u001b[1mLayer (type)                   \u001b[0m\u001b[1m \u001b[0m┃\u001b[1m \u001b[0m\u001b[1mOutput Shape          \u001b[0m\u001b[1m \u001b[0m┃\u001b[1m \u001b[0m\u001b[1m      Param #\u001b[0m\u001b[1m \u001b[0m┃\n",
              "┡━━━━━━━━━━━━━━━━━━━━━━━━━━━━━━━━━╇━━━━━━━━━━━━━━━━━━━━━━━━╇━━━━━━━━━━━━━━━┩\n",
              "│ embedding_1 (\u001b[38;5;33mEmbedding\u001b[0m)         │ ?                      │   \u001b[38;5;34m0\u001b[0m (unbuilt) │\n",
              "├─────────────────────────────────┼────────────────────────┼───────────────┤\n",
              "│ spatial_dropout1d_1             │ ?                      │             \u001b[38;5;34m0\u001b[0m │\n",
              "│ (\u001b[38;5;33mSpatialDropout1D\u001b[0m)              │                        │               │\n",
              "├─────────────────────────────────┼────────────────────────┼───────────────┤\n",
              "│ bidirectional_2 (\u001b[38;5;33mBidirectional\u001b[0m) │ ?                      │   \u001b[38;5;34m0\u001b[0m (unbuilt) │\n",
              "├─────────────────────────────────┼────────────────────────┼───────────────┤\n",
              "│ bidirectional_3 (\u001b[38;5;33mBidirectional\u001b[0m) │ ?                      │   \u001b[38;5;34m0\u001b[0m (unbuilt) │\n",
              "├─────────────────────────────────┼────────────────────────┼───────────────┤\n",
              "│ dense_2 (\u001b[38;5;33mDense\u001b[0m)                 │ ?                      │   \u001b[38;5;34m0\u001b[0m (unbuilt) │\n",
              "├─────────────────────────────────┼────────────────────────┼───────────────┤\n",
              "│ dropout_1 (\u001b[38;5;33mDropout\u001b[0m)             │ ?                      │             \u001b[38;5;34m0\u001b[0m │\n",
              "├─────────────────────────────────┼────────────────────────┼───────────────┤\n",
              "│ dense_3 (\u001b[38;5;33mDense\u001b[0m)                 │ ?                      │   \u001b[38;5;34m0\u001b[0m (unbuilt) │\n",
              "└─────────────────────────────────┴────────────────────────┴───────────────┘\n"
            ],
            "text/html": [
              "<pre style=\"white-space:pre;overflow-x:auto;line-height:normal;font-family:Menlo,'DejaVu Sans Mono',consolas,'Courier New',monospace\">┏━━━━━━━━━━━━━━━━━━━━━━━━━━━━━━━━━┳━━━━━━━━━━━━━━━━━━━━━━━━┳━━━━━━━━━━━━━━━┓\n",
              "┃<span style=\"font-weight: bold\"> Layer (type)                    </span>┃<span style=\"font-weight: bold\"> Output Shape           </span>┃<span style=\"font-weight: bold\">       Param # </span>┃\n",
              "┡━━━━━━━━━━━━━━━━━━━━━━━━━━━━━━━━━╇━━━━━━━━━━━━━━━━━━━━━━━━╇━━━━━━━━━━━━━━━┩\n",
              "│ embedding_1 (<span style=\"color: #0087ff; text-decoration-color: #0087ff\">Embedding</span>)         │ ?                      │   <span style=\"color: #00af00; text-decoration-color: #00af00\">0</span> (unbuilt) │\n",
              "├─────────────────────────────────┼────────────────────────┼───────────────┤\n",
              "│ spatial_dropout1d_1             │ ?                      │             <span style=\"color: #00af00; text-decoration-color: #00af00\">0</span> │\n",
              "│ (<span style=\"color: #0087ff; text-decoration-color: #0087ff\">SpatialDropout1D</span>)              │                        │               │\n",
              "├─────────────────────────────────┼────────────────────────┼───────────────┤\n",
              "│ bidirectional_2 (<span style=\"color: #0087ff; text-decoration-color: #0087ff\">Bidirectional</span>) │ ?                      │   <span style=\"color: #00af00; text-decoration-color: #00af00\">0</span> (unbuilt) │\n",
              "├─────────────────────────────────┼────────────────────────┼───────────────┤\n",
              "│ bidirectional_3 (<span style=\"color: #0087ff; text-decoration-color: #0087ff\">Bidirectional</span>) │ ?                      │   <span style=\"color: #00af00; text-decoration-color: #00af00\">0</span> (unbuilt) │\n",
              "├─────────────────────────────────┼────────────────────────┼───────────────┤\n",
              "│ dense_2 (<span style=\"color: #0087ff; text-decoration-color: #0087ff\">Dense</span>)                 │ ?                      │   <span style=\"color: #00af00; text-decoration-color: #00af00\">0</span> (unbuilt) │\n",
              "├─────────────────────────────────┼────────────────────────┼───────────────┤\n",
              "│ dropout_1 (<span style=\"color: #0087ff; text-decoration-color: #0087ff\">Dropout</span>)             │ ?                      │             <span style=\"color: #00af00; text-decoration-color: #00af00\">0</span> │\n",
              "├─────────────────────────────────┼────────────────────────┼───────────────┤\n",
              "│ dense_3 (<span style=\"color: #0087ff; text-decoration-color: #0087ff\">Dense</span>)                 │ ?                      │   <span style=\"color: #00af00; text-decoration-color: #00af00\">0</span> (unbuilt) │\n",
              "└─────────────────────────────────┴────────────────────────┴───────────────┘\n",
              "</pre>\n"
            ]
          },
          "metadata": {}
        },
        {
          "output_type": "display_data",
          "data": {
            "text/plain": [
              "\u001b[1m Total params: \u001b[0m\u001b[38;5;34m0\u001b[0m (0.00 B)\n"
            ],
            "text/html": [
              "<pre style=\"white-space:pre;overflow-x:auto;line-height:normal;font-family:Menlo,'DejaVu Sans Mono',consolas,'Courier New',monospace\"><span style=\"font-weight: bold\"> Total params: </span><span style=\"color: #00af00; text-decoration-color: #00af00\">0</span> (0.00 B)\n",
              "</pre>\n"
            ]
          },
          "metadata": {}
        },
        {
          "output_type": "display_data",
          "data": {
            "text/plain": [
              "\u001b[1m Trainable params: \u001b[0m\u001b[38;5;34m0\u001b[0m (0.00 B)\n"
            ],
            "text/html": [
              "<pre style=\"white-space:pre;overflow-x:auto;line-height:normal;font-family:Menlo,'DejaVu Sans Mono',consolas,'Courier New',monospace\"><span style=\"font-weight: bold\"> Trainable params: </span><span style=\"color: #00af00; text-decoration-color: #00af00\">0</span> (0.00 B)\n",
              "</pre>\n"
            ]
          },
          "metadata": {}
        },
        {
          "output_type": "display_data",
          "data": {
            "text/plain": [
              "\u001b[1m Non-trainable params: \u001b[0m\u001b[38;5;34m0\u001b[0m (0.00 B)\n"
            ],
            "text/html": [
              "<pre style=\"white-space:pre;overflow-x:auto;line-height:normal;font-family:Menlo,'DejaVu Sans Mono',consolas,'Courier New',monospace\"><span style=\"font-weight: bold\"> Non-trainable params: </span><span style=\"color: #00af00; text-decoration-color: #00af00\">0</span> (0.00 B)\n",
              "</pre>\n"
            ]
          },
          "metadata": {}
        }
      ]
    },
    {
      "cell_type": "code",
      "source": [
        "# Train BiLSTM Model\n",
        "from keras.callbacks import EarlyStopping  # Import EarlyStopping\n",
        "\n",
        "bilstm_callbacks = [EarlyStopping(monitor='val_loss', patience=3)]\n",
        "bilstm_history = bilstm_model.fit(X_train, y_train, epochs=6, batch_size=64, validation_data=(X_valid, y_valid), callbacks=bilstm_callbacks)\n",
        "\n",
        "\n"
      ],
      "metadata": {
        "colab": {
          "base_uri": "https://localhost:8080/"
        },
        "id": "UjpkNnd6yvJJ",
        "outputId": "015ca985-c7f1-4298-bff1-4f4791080d86"
      },
      "execution_count": null,
      "outputs": [
        {
          "output_type": "stream",
          "name": "stdout",
          "text": [
            "Epoch 1/6\n",
            "\u001b[1m506/506\u001b[0m \u001b[32m━━━━━━━━━━━━━━━━━━━━\u001b[0m\u001b[37m\u001b[0m \u001b[1m611s\u001b[0m 1s/step - accuracy: 0.6107 - loss: 0.6676 - val_accuracy: 0.6138 - val_loss: 0.6661\n",
            "Epoch 2/6\n",
            "\u001b[1m506/506\u001b[0m \u001b[32m━━━━━━━━━━━━━━━━━━━━\u001b[0m\u001b[37m\u001b[0m \u001b[1m607s\u001b[0m 1s/step - accuracy: 0.6056 - loss: 0.6703 - val_accuracy: 0.6138 - val_loss: 0.6658\n",
            "Epoch 3/6\n",
            "\u001b[1m506/506\u001b[0m \u001b[32m━━━━━━━━━━━━━━━━━━━━\u001b[0m\u001b[37m\u001b[0m \u001b[1m614s\u001b[0m 1s/step - accuracy: 0.6053 - loss: 0.6703 - val_accuracy: 0.6138 - val_loss: 0.6658\n",
            "Epoch 4/6\n",
            "\u001b[1m506/506\u001b[0m \u001b[32m━━━━━━━━━━━━━━━━━━━━\u001b[0m\u001b[37m\u001b[0m \u001b[1m622s\u001b[0m 1s/step - accuracy: 0.6064 - loss: 0.6694 - val_accuracy: 0.6138 - val_loss: 0.6662\n",
            "Epoch 5/6\n",
            "\u001b[1m506/506\u001b[0m \u001b[32m━━━━━━━━━━━━━━━━━━━━\u001b[0m\u001b[37m\u001b[0m \u001b[1m606s\u001b[0m 1s/step - accuracy: 0.6041 - loss: 0.6700 - val_accuracy: 0.6138 - val_loss: 0.6661\n",
            "Epoch 6/6\n",
            "\u001b[1m506/506\u001b[0m \u001b[32m━━━━━━━━━━━━━━━━━━━━\u001b[0m\u001b[37m\u001b[0m \u001b[1m619s\u001b[0m 1s/step - accuracy: 0.6074 - loss: 0.6688 - val_accuracy: 0.6138 - val_loss: 0.6661\n"
          ]
        }
      ]
    },
    {
      "cell_type": "code",
      "source": [
        "# Train GRU Model\n",
        "gru_callbacks = [EarlyStopping(monitor='val_loss', patience=3)]\n",
        "gru_history = gru_model.fit(X_train, y_train, epochs=6, batch_size=64, validation_data=(X_valid, y_valid), callbacks=gru_callbacks)"
      ],
      "metadata": {
        "colab": {
          "base_uri": "https://localhost:8080/"
        },
        "id": "rTPPAiWPTbm6",
        "outputId": "a3aa5756-3738-475f-a5f4-cd01fdfe7252"
      },
      "execution_count": null,
      "outputs": [
        {
          "output_type": "stream",
          "name": "stdout",
          "text": [
            "Epoch 1/6\n",
            "\u001b[1m506/506\u001b[0m \u001b[32m━━━━━━━━━━━━━━━━━━━━\u001b[0m\u001b[37m\u001b[0m \u001b[1m659s\u001b[0m 1s/step - accuracy: 0.6032 - loss: 0.6736 - val_accuracy: 0.6138 - val_loss: 0.6679\n",
            "Epoch 2/6\n",
            "\u001b[1m506/506\u001b[0m \u001b[32m━━━━━━━━━━━━━━━━━━━━\u001b[0m\u001b[37m\u001b[0m \u001b[1m687s\u001b[0m 1s/step - accuracy: 0.6077 - loss: 0.6696 - val_accuracy: 0.6138 - val_loss: 0.6666\n",
            "Epoch 3/6\n",
            "\u001b[1m506/506\u001b[0m \u001b[32m━━━━━━━━━━━━━━━━━━━━\u001b[0m\u001b[37m\u001b[0m \u001b[1m673s\u001b[0m 1s/step - accuracy: 0.6020 - loss: 0.6712 - val_accuracy: 0.6138 - val_loss: 0.6656\n",
            "Epoch 4/6\n",
            "\u001b[1m506/506\u001b[0m \u001b[32m━━━━━━━━━━━━━━━━━━━━\u001b[0m\u001b[37m\u001b[0m \u001b[1m685s\u001b[0m 1s/step - accuracy: 0.6069 - loss: 0.6700 - val_accuracy: 0.6138 - val_loss: 0.6681\n",
            "Epoch 5/6\n",
            "\u001b[1m506/506\u001b[0m \u001b[32m━━━━━━━━━━━━━━━━━━━━\u001b[0m\u001b[37m\u001b[0m \u001b[1m679s\u001b[0m 1s/step - accuracy: 0.6088 - loss: 0.6693 - val_accuracy: 0.6138 - val_loss: 0.6664\n",
            "Epoch 6/6\n",
            "\u001b[1m506/506\u001b[0m \u001b[32m━━━━━━━━━━━━━━━━━━━━\u001b[0m\u001b[37m\u001b[0m \u001b[1m686s\u001b[0m 1s/step - accuracy: 0.6015 - loss: 0.6712 - val_accuracy: 0.6138 - val_loss: 0.6657\n"
          ]
        }
      ]
    },
    {
      "cell_type": "code",
      "source": [
        "def evaluate_model(model, X_test, y_test, model_name):\n",
        "    print(f\"\\n--- {model_name} ---\")\n",
        "    pred_probs = model.predict(X_test)\n",
        "    pred_labels = (pred_probs > 0.5).astype(int)\n",
        "    print(classification_report(y_test, pred_labels))\n",
        "    print(\"Confusion Matrix:\\n\", confusion_matrix(y_test, pred_labels))\n",
        "    print(\"Accuracy:\", accuracy_score(y_test, pred_labels))\n",
        "    print(\"ROC-AUC:\", roc_auc_score(y_test, pred_probs))\n",
        "\n",
        "    # Plot ROC Curve\n",
        "    fpr, tpr, _ = roc_curve(y_test, pred_probs)\n",
        "    plt.plot(fpr, tpr, label=model_name)\n",
        "\n",
        "# Evaluate models\n",
        "plt.figure(figsize=(8, 6))\n",
        "evaluate_model(bilstm_model, X_valid, y_valid, \"BiLSTM\")\n",
        "evaluate_model(gru_model, X_valid, y_valid, \"GRU\")\n",
        "plt.plot([0, 1], [0, 1], 'k--')\n",
        "plt.xlabel(\"False Positive Rate\")\n",
        "plt.ylabel(\"True Positive Rate\")\n",
        "plt.title(\"ROC Curve Comparison\")\n",
        "plt.legend()\n",
        "plt.show()\n"
      ],
      "metadata": {
        "colab": {
          "base_uri": "https://localhost:8080/",
          "height": 1000
        },
        "id": "OBufbCn1qYTg",
        "outputId": "def5e310-7db3-4a08-d7d8-840495f72c8a"
      },
      "execution_count": null,
      "outputs": [
        {
          "output_type": "stream",
          "name": "stdout",
          "text": [
            "\n",
            "--- BiLSTM ---\n",
            "\u001b[1m253/253\u001b[0m \u001b[32m━━━━━━━━━━━━━━━━━━━━\u001b[0m\u001b[37m\u001b[0m \u001b[1m37s\u001b[0m 143ms/step\n"
          ]
        },
        {
          "output_type": "stream",
          "name": "stderr",
          "text": [
            "/usr/local/lib/python3.11/dist-packages/sklearn/metrics/_classification.py:1565: UndefinedMetricWarning: Precision is ill-defined and being set to 0.0 in labels with no predicted samples. Use `zero_division` parameter to control this behavior.\n",
            "  _warn_prf(average, modifier, f\"{metric.capitalize()} is\", len(result))\n",
            "/usr/local/lib/python3.11/dist-packages/sklearn/metrics/_classification.py:1565: UndefinedMetricWarning: Precision is ill-defined and being set to 0.0 in labels with no predicted samples. Use `zero_division` parameter to control this behavior.\n",
            "  _warn_prf(average, modifier, f\"{metric.capitalize()} is\", len(result))\n",
            "/usr/local/lib/python3.11/dist-packages/sklearn/metrics/_classification.py:1565: UndefinedMetricWarning: Precision is ill-defined and being set to 0.0 in labels with no predicted samples. Use `zero_division` parameter to control this behavior.\n",
            "  _warn_prf(average, modifier, f\"{metric.capitalize()} is\", len(result))\n"
          ]
        },
        {
          "output_type": "stream",
          "name": "stdout",
          "text": [
            "              precision    recall  f1-score   support\n",
            "\n",
            "           0       0.00      0.00      0.00      3123\n",
            "           1       0.61      1.00      0.76      4964\n",
            "\n",
            "    accuracy                           0.61      8087\n",
            "   macro avg       0.31      0.50      0.38      8087\n",
            "weighted avg       0.38      0.61      0.47      8087\n",
            "\n",
            "Confusion Matrix:\n",
            " [[   0 3123]\n",
            " [   0 4964]]\n",
            "Accuracy: 0.6138246568566835\n",
            "ROC-AUC: 0.5314273979827348\n",
            "\n",
            "--- GRU ---\n",
            "\u001b[1m253/253\u001b[0m \u001b[32m━━━━━━━━━━━━━━━━━━━━\u001b[0m\u001b[37m\u001b[0m \u001b[1m34s\u001b[0m 132ms/step\n",
            "              precision    recall  f1-score   support\n",
            "\n",
            "           0       0.00      0.00      0.00      3123\n",
            "           1       0.61      1.00      0.76      4964\n",
            "\n",
            "    accuracy                           0.61      8087\n",
            "   macro avg       0.31      0.50      0.38      8087\n",
            "weighted avg       0.38      0.61      0.47      8087\n",
            "\n",
            "Confusion Matrix:\n",
            " [[   0 3123]\n",
            " [   0 4964]]\n",
            "Accuracy: 0.6138246568566835\n",
            "ROC-AUC: 0.5318113987795057\n"
          ]
        },
        {
          "output_type": "stream",
          "name": "stderr",
          "text": [
            "/usr/local/lib/python3.11/dist-packages/sklearn/metrics/_classification.py:1565: UndefinedMetricWarning: Precision is ill-defined and being set to 0.0 in labels with no predicted samples. Use `zero_division` parameter to control this behavior.\n",
            "  _warn_prf(average, modifier, f\"{metric.capitalize()} is\", len(result))\n",
            "/usr/local/lib/python3.11/dist-packages/sklearn/metrics/_classification.py:1565: UndefinedMetricWarning: Precision is ill-defined and being set to 0.0 in labels with no predicted samples. Use `zero_division` parameter to control this behavior.\n",
            "  _warn_prf(average, modifier, f\"{metric.capitalize()} is\", len(result))\n",
            "/usr/local/lib/python3.11/dist-packages/sklearn/metrics/_classification.py:1565: UndefinedMetricWarning: Precision is ill-defined and being set to 0.0 in labels with no predicted samples. Use `zero_division` parameter to control this behavior.\n",
            "  _warn_prf(average, modifier, f\"{metric.capitalize()} is\", len(result))\n"
          ]
        },
        {
          "output_type": "display_data",
          "data": {
            "text/plain": [
              "<Figure size 800x600 with 1 Axes>"
            ],
            "image/png": "[encoded data removed]"
          },
          "metadata": {}
        }
      ]
    },
    {
      "cell_type": "code",
      "source": [
        "def plot_history(history, model_name):\n",
        "    plt.figure(figsize=(12, 5))\n",
        "    plt.subplot(1, 2, 1)\n",
        "    plt.plot(history.history['accuracy'], label='Train')\n",
        "    plt.plot(history.history['val_accuracy'], label='Validation')\n",
        "    plt.title(f'{model_name} Accuracy')\n",
        "    plt.legend()\n",
        "\n",
        "    plt.subplot(1, 2, 2)\n",
        "    plt.plot(history.history['loss'], label='Train')\n",
        "    plt.plot(history.history['val_loss'], label='Validation')\n",
        "    plt.title(f'{model_name} Loss')\n",
        "    plt.legend()\n",
        "    plt.show()\n",
        "\n",
        "# Plot training history for both models\n",
        "plot_history(bilstm_history, \"BiLSTM\")\n",
        "plot_history(gru_history, \"GRU\")\n"
      ],
      "metadata": {
        "colab": {
          "base_uri": "https://localhost:8080/",
          "height": 919
        },
        "id": "e5-w5Wzi2led",
        "outputId": "5224e0fc-4b95-41d6-b416-bdc35718f66b"
      },
      "execution_count": null,
      "outputs": [
        {
          "output_type": "display_data",
          "data": {
            "text/plain": [
              "<Figure size 1200x500 with 2 Axes>"
            ],
            "image/png": "[encoded data removed]"
          },
          "metadata": {}
        },
        {
          "output_type": "display_data",
          "data": {
            "text/plain": [
              "<Figure size 1200x500 with 2 Axes>"
            ],
            "image/png": "[encoded data removed]"
          },
          "metadata": {}
        }
      ]
    },
    {
      "cell_type": "code",
      "source": [
        "\n",
        "from sklearn.metrics import confusion_matrix, ConfusionMatrixDisplay, classification_report, roc_curve, roc_auc_score, precision_score, recall_score, f1_score, accuracy_score\n",
        "import matplotlib.pyplot as plt\n"
      ],
      "metadata": {
        "id": "kp3z1JgE4pKz"
      },
      "execution_count": null,
      "outputs": []
    },
    {
      "cell_type": "code",
      "source": [
        "def evaluate_model_graphically(model, X_test, y_test, name=\"Model\"):\n",
        "    y_probs = model.predict(X_test)\n",
        "    y_pred = (y_probs > 0.5).astype(int)\n",
        "\n",
        "    print(f\"\\n{name} Classification Report:\")\n",
        "    print(classification_report(y_test, y_pred))\n",
        "\n",
        "    acc = accuracy_score(y_test, y_pred)\n",
        "    prec = precision_score(y_test, y_pred)\n",
        "    rec = recall_score(y_test, y_pred)\n",
        "    f1 = f1_score(y_test, y_pred)\n",
        "    auc = roc_auc_score(y_test, y_probs)\n",
        "\n",
        "    print(f\"Accuracy: {acc:.4f}\")\n",
        "    print(f\"Precision: {prec:.4f}\")\n",
        "    print(f\"Recall: {rec:.4f}\")\n",
        "    print(f\"F1 Score: {f1:.4f}\")\n",
        "    print(f\"ROC-AUC: {auc:.4f}\")\n",
        "\n",
        "    cm = confusion_matrix(y_test, y_pred)\n",
        "    disp = ConfusionMatrixDisplay(confusion_matrix=cm)\n",
        "    disp.plot(cmap='Blues')\n",
        "    plt.title(f\"Confusion Matrix - {name}\")\n",
        "    plt.show()\n",
        "\n",
        "    fpr, tpr, _ = roc_curve(y_test, y_probs)\n",
        "    return fpr, tpr, auc\n"
      ],
      "metadata": {
        "id": "896KYYGO4sMz"
      },
      "execution_count": null,
      "outputs": []
    },
    {
      "cell_type": "code",
      "source": [
        "from sklearn.linear_model import LogisticRegression\n",
        "\n",
        "# Use TF-IDF for ML model input\n",
        "from sklearn.feature_extraction.text import TfidfVectorizer\n",
        "\n",
        "vectorizer = TfidfVectorizer(max_features=5000)\n",
        "X_tfidf = vectorizer.fit_transform(df['cleaned_review']).toarray()\n",
        "X_train_ml, X_test_ml, y_train_ml, y_test_ml = train_test_split(X_tfidf, df['label'], test_size=0.2, random_state=42)\n",
        "\n",
        "# Logistic Regression\n",
        "log_model = LogisticRegression()\n",
        "log_model.fit(X_train_ml, y_train_ml)\n",
        "y_probs_log = log_model.predict_proba(X_test_ml)[:, 1]\n",
        "y_pred_log = (y_probs_log > 0.5).astype(int)\n"
      ],
      "metadata": {
        "id": "5ZCU8jSj6Fjk"
      },
      "execution_count": null,
      "outputs": []
    },
    {
      "cell_type": "code",
      "source": [
        "print(\"\\nLogistic Regression Classification Report:\")\n",
        "print(classification_report(y_test_ml, y_pred_log))\n",
        "\n",
        "cm = confusion_matrix(y_test_ml, y_pred_log)\n",
        "disp = ConfusionMatrixDisplay(confusion_matrix=cm)\n",
        "disp.plot(cmap='Oranges')\n",
        "plt.title(\"Confusion Matrix - Logistic Regression\")\n",
        "plt.show()\n",
        "\n",
        "fpr_log, tpr_log, _ = roc_curve(y_test_ml, y_probs_log)\n"
      ],
      "metadata": {
        "colab": {
          "base_uri": "https://localhost:8080/",
          "height": 787
        },
        "id": "CvzCZHz07MxW",
        "outputId": "62a9656b-e66f-4de6-e409-6373a8282b2d"
      },
      "execution_count": null,
      "outputs": [
        {
          "output_type": "stream",
          "name": "stdout",
          "text": [
            "\n",
            "Logistic Regression Classification Report:\n",
            "              precision    recall  f1-score   support\n",
            "\n",
            "           0       0.00      0.00      0.00      3123\n",
            "           1       0.61      1.00      0.76      4964\n",
            "\n",
            "    accuracy                           0.61      8087\n",
            "   macro avg       0.31      0.50      0.38      8087\n",
            "weighted avg       0.38      0.61      0.47      8087\n",
            "\n"
          ]
        },
        {
          "output_type": "stream",
          "name": "stderr",
          "text": [
            "/usr/local/lib/python3.11/dist-packages/sklearn/metrics/_classification.py:1565: UndefinedMetricWarning: Precision is ill-defined and being set to 0.0 in labels with no predicted samples. Use `zero_division` parameter to control this behavior.\n",
            "  _warn_prf(average, modifier, f\"{metric.capitalize()} is\", len(result))\n",
            "/usr/local/lib/python3.11/dist-packages/sklearn/metrics/_classification.py:1565: UndefinedMetricWarning: Precision is ill-defined and being set to 0.0 in labels with no predicted samples. Use `zero_division` parameter to control this behavior.\n",
            "  _warn_prf(average, modifier, f\"{metric.capitalize()} is\", len(result))\n",
            "/usr/local/lib/python3.11/dist-packages/sklearn/metrics/_classification.py:1565: UndefinedMetricWarning: Precision is ill-defined and being set to 0.0 in labels with no predicted samples. Use `zero_division` parameter to control this behavior.\n",
            "  _warn_prf(average, modifier, f\"{metric.capitalize()} is\", len(result))\n"
          ]
        },
        {
          "output_type": "display_data",
          "data": {
            "text/plain": [
              "<Figure size 640x480 with 2 Axes>"
            ],
            "image/png": "[encoded data removed]"
          },
          "metadata": {}
        }
      ]
    },
    {
      "cell_type": "code",
      "source": [
        "# Predicted Probabilities & Labels for BiLSTM\n",
        "y_probs_bilstm = bilstm_model.predict(X_valid)\n",
        "y_pred_bilstm = (y_probs_bilstm > 0.5).astype(int)\n",
        "\n",
        "# Import necessary modules if not already imported\n",
        "from sklearn.metrics import confusion_matrix\n",
        "import matplotlib.pyplot as plt\n",
        "from sklearn.metrics import ConfusionMatrixDisplay\n",
        "\n",
        "# Define the plot_confusion_matrix function\n",
        "def plot_confusion_matrix(y_true, y_pred, model_name):\n",
        "    cm = confusion_matrix(y_true, y_pred)\n",
        "    disp = ConfusionMatrixDisplay(confusion_matrix=cm)\n",
        "    disp.plot(cmap='Blues')\n",
        "    plt.title(f\"Confusion Matrix - {model_name}\")\n",
        "    plt.show()\n",
        "\n",
        "# Plot\n",
        "plot_confusion_matrix(y_valid, y_pred_bilstm, \"BiLSTM\")"
      ],
      "metadata": {
        "colab": {
          "base_uri": "https://localhost:8080/",
          "height": 489
        },
        "id": "7JIwIkTZ-qVV",
        "outputId": "ec857509-2a80-4420-b02a-c9b97c2ca210"
      },
      "execution_count": null,
      "outputs": [
        {
          "output_type": "stream",
          "name": "stdout",
          "text": [
            "\u001b[1m253/253\u001b[0m \u001b[32m━━━━━━━━━━━━━━━━━━━━\u001b[0m\u001b[37m\u001b[0m \u001b[1m35s\u001b[0m 137ms/step\n"
          ]
        },
        {
          "output_type": "display_data",
          "data": {
            "text/plain": [
              "<Figure size 640x480 with 2 Axes>"
            ],
            "image/png": "[encoded data removed]"
          },
          "metadata": {}
        }
      ]
    },
    {
      "cell_type": "code",
      "source": [
        "# Predict and binarize\n",
        "y_pred_gru = (gru_model.predict(X_valid) > 0.5).astype(int)\n",
        "\n",
        "# Create and plot confusion matrix\n",
        "cm_gru = confusion_matrix(y_valid, y_pred_gru)\n",
        "disp_gru = ConfusionMatrixDisplay(confusion_matrix=cm_gru)\n",
        "disp_gru.plot(cmap='Oranges')\n",
        "plt.title(\"Confusion Matrix - GRU\")\n",
        "plt.show()\n"
      ],
      "metadata": {
        "colab": {
          "base_uri": "https://localhost:8080/",
          "height": 489
        },
        "id": "ffaa3Ckb_5XL",
        "outputId": "f632d42b-3ce6-4d6c-fc9d-49febb1b70ea"
      },
      "execution_count": null,
      "outputs": [
        {
          "output_type": "stream",
          "name": "stdout",
          "text": [
            "\u001b[1m253/253\u001b[0m \u001b[32m━━━━━━━━━━━━━━━━━━━━\u001b[0m\u001b[37m\u001b[0m \u001b[1m34s\u001b[0m 135ms/step\n"
          ]
        },
        {
          "output_type": "display_data",
          "data": {
            "text/plain": [
              "<Figure size 640x480 with 2 Axes>"
            ],
            "image/png": "[encoded data removed]"
          },
          "metadata": {}
        }
      ]
    },
    {
      "cell_type": "code",
      "source": [
        "gru_accuracy = gru_model.evaluate(X_valid, y_valid)[1]"
      ],
      "metadata": {
        "colab": {
          "base_uri": "https://localhost:8080/"
        },
        "id": "9WMqa-LQENfn",
        "outputId": "cb916251-e7da-46a6-e4b5-142830fd607a"
      },
      "execution_count": null,
      "outputs": [
        {
          "output_type": "stream",
          "name": "stdout",
          "text": [
            "\u001b[1m253/253\u001b[0m \u001b[32m━━━━━━━━━━━━━━━━━━━━\u001b[0m\u001b[37m\u001b[0m \u001b[1m48s\u001b[0m 191ms/step - accuracy: 0.6017 - loss: 0.6710\n"
          ]
        }
      ]
    },
    {
      "cell_type": "code",
      "source": [],
      "metadata": {
        "id": "0vSDJznYERVa"
      },
      "execution_count": null,
      "outputs": []
    },
    {
      "cell_type": "code",
      "source": [
        "bilstm_accuracy = bilstm_model.evaluate(X_valid, y_valid)[1]"
      ],
      "metadata": {
        "colab": {
          "base_uri": "https://localhost:8080/"
        },
        "id": "yJdQ_xX3ER1s",
        "outputId": "71fc098e-7367-483b-85c3-0ed68558e893"
      },
      "execution_count": null,
      "outputs": [
        {
          "output_type": "stream",
          "name": "stdout",
          "text": [
            "\u001b[1m253/253\u001b[0m \u001b[32m━━━━━━━━━━━━━━━━━━━━\u001b[0m\u001b[37m\u001b[0m \u001b[1m37s\u001b[0m 148ms/step - accuracy: 0.6017 - loss: 0.6701\n"
          ]
        }
      ]
    },
    {
      "cell_type": "code",
      "source": [
        "import matplotlib.pyplot as plt\n",
        "import numpy as np\n",
        "\n",
        "# Calculate accuracy for Logistic Regression (assuming you have y_test_ml and y_pred_log from previous cells)\n",
        "from sklearn.metrics import accuracy_score  # Import accuracy_score if not already imported\n",
        "lr_accuracy = accuracy_score(y_test_ml, y_pred_log)\n",
        "\n",
        "# Now use the calculated accuracies\n",
        "accuracies = [bilstm_accuracy, gru_accuracy, lr_accuracy]\n",
        "model_names = ['BiLSTM', 'GRU', 'Logistic Regression']\n",
        "\n",
        "# Bar plot for model comparison\n",
        "fig, ax = plt.subplots(figsize=(8, 6))\n",
        "\n",
        "# Create the bar chart\n",
        "ax.bar(model_names, accuracies, color=['skyblue', 'lightgreen', 'salmon'])\n",
        "\n",
        "# Adding labels and title\n",
        "ax.set_xlabel('Models')\n",
        "ax.set_ylabel('Accuracy')\n",
        "ax.set_title('Comparison of Model Accuracies')\n",
        "\n",
        "# Show accuracy values on top of the bars\n",
        "for i, v in enumerate(accuracies):\n",
        "    ax.text(i, v + 0.01, str(round(v, 2)), ha='center', va='bottom', fontsize=12)\n",
        "\n",
        "# Display the plot\n",
        "plt.show()"
      ],
      "metadata": {
        "colab": {
          "base_uri": "https://localhost:8080/",
          "height": 564
        },
        "id": "xtto5mqeG_bB",
        "outputId": "e5aa63a7-b59d-4655-c6d1-65f807fc4c1b"
      },
      "execution_count": null,
      "outputs": [
        {
          "output_type": "display_data",
          "data": {
            "text/plain": [
              "<Figure size 800x600 with 1 Axes>"
            ],
            "image/png": "[encoded data removed]"
          },
          "metadata": {}
        }
      ]
    },
    {
      "cell_type": "code",
      "source": [
        "# ... (previous code) ...\n",
        "\n",
        "# Example for BiLSTM and GRU (after prediction)\n",
        "# Assuming X_valid and y_valid are your test data for the deep learning models\n",
        "bilstm_predictions = bilstm_model.predict(X_valid)  # Get continuous predictions\n",
        "gru_predictions = gru_model.predict(X_valid)        # Get continuous predictions\n",
        "\n",
        "# Convert continuous predictions to binary using a threshold (0.5 in this case)\n",
        "bilstm_predictions_binary = (bilstm_predictions > 0.5).astype(int)\n",
        "gru_predictions_binary = (gru_predictions > 0.5).astype(int)\n",
        "\n",
        "# Calculate metrics for BiLSTM and GRU\n",
        "from sklearn.metrics import accuracy_score, precision_score, recall_score, f1_score, roc_auc_score\n",
        "\n",
        "bilstm_precision = precision_score(y_valid, bilstm_predictions_binary)  # Use binary predictions\n",
        "gru_precision = precision_score(y_valid, gru_predictions_binary)      # Use binary predictions\n",
        "\n",
        "# Repeat for recall, F1-score, etc., using y_valid and the respective binary predictions\n",
        "bilstm_recall = recall_score(y_valid, bilstm_predictions_binary)\n",
        "bilstm_f1 = f1_score(y_valid, bilstm_predictions_binary)\n",
        "bilstm_roc_auc = roc_auc_score(y_valid, bilstm_predictions)  # ROC-AUC can use continuous predictions\n",
        "\n",
        "gru_recall = recall_score(y_valid, gru_predictions_binary)\n",
        "gru_f1 = f1_score(y_valid, gru_predictions_binary)\n",
        "gru_roc_auc = roc_auc_score(y_valid, gru_predictions)        # ROC-AUC can use continuous predictions\n",
        "\n",
        "\n",
        "# Calculate metrics for Logistic Regression (assuming y_test_ml and y_pred_log from a previous cell)\n",
        "# Make sure y_probs_log is available from the Logistic Regression cell\n",
        "lr_precision = precision_score(y_test_ml, y_pred_log)\n",
        "lr_recall = recall_score(y_test_ml, y_pred_log)\n",
        "lr_f1 = f1_score(y_test_ml, y_pred_log)\n",
        "lr_roc_auc = roc_auc_score(y_test_ml, y_probs_log)  # Assuming y_probs_log is available\n",
        "\n",
        "# Print the results for comparison\n",
        "print(\"Logistic Regression - Precision: \", lr_precision, \"Recall: \", lr_recall, \"F1: \", lr_f1, \"ROC-AUC: \", lr_roc_auc)\n",
        "print(\"BiLSTM - Precision: \", bilstm_precision, \"Recall: \", bilstm_recall, \"F1: \", bilstm_f1, \"ROC-AUC: \", bilstm_roc_auc)\n",
        "print(\"GRU - Precision: \", gru_precision, \"Recall: \", gru_recall, \"F1: \", gru_f1, \"ROC-AUC: \", gru_roc_auc)\n",
        "\n",
        "# ... (rest of the code) ..."
      ],
      "metadata": {
        "colab": {
          "base_uri": "https://localhost:8080/"
        },
        "id": "hScx6iU0JisA",
        "outputId": "ee3c1bea-db97-4838-c7c4-c863c02d3bfe"
      },
      "execution_count": null,
      "outputs": [
        {
          "output_type": "stream",
          "name": "stdout",
          "text": [
            "\u001b[1m253/253\u001b[0m \u001b[32m━━━━━━━━━━━━━━━━━━━━\u001b[0m\u001b[37m\u001b[0m \u001b[1m35s\u001b[0m 139ms/step\n",
            "\u001b[1m253/253\u001b[0m \u001b[32m━━━━━━━━━━━━━━━━━━━━\u001b[0m\u001b[37m\u001b[0m \u001b[1m33s\u001b[0m 132ms/step\n",
            "Logistic Regression - Precision:  0.6138246568566835 Recall:  1.0 F1:  0.7607079917247721 ROC-AUC:  0.5310800362675303\n",
            "BiLSTM - Precision:  0.6138246568566835 Recall:  1.0 F1:  0.7607079917247721 ROC-AUC:  0.5314273979827348\n",
            "GRU - Precision:  0.6138246568566835 Recall:  1.0 F1:  0.7607079917247721 ROC-AUC:  0.5318113987795057\n"
          ]
        }
      ]
    },
    {
      "cell_type": "code",
      "source": [
        "from sklearn.metrics import confusion_matrix\n",
        "\n",
        "# For Logistic Regression\n",
        "lr_cm = confusion_matrix(y_test, lr_predictions)\n",
        "# For GRU\n",
        "gru_cm = confusion_matrix(y_test, gru_predictions)\n",
        "# For BiLSTM\n",
        "bilstm_cm = confusion_matrix(y_test, bilstm_predictions)\n",
        "\n",
        "# Bar plot for each model's confusion matrix\n",
        "models = ['Logistic Regression', 'GRU', 'BiLSTM']\n",
        "correct_preds = [lr_cm[0,0] + lr_cm[1,1], gru_cm[0,0] + gru_cm[1,1], bilstm_cm[0,0] + bilstm_cm[1,1]]\n",
        "incorrect_preds = [lr_cm[0,1] + lr_cm[1,0], gru_cm[0,1] + gru_cm[1,0], bilstm_cm[0,1] + bilstm_cm[1,0]]\n",
        "\n",
        "# Bar plot for comparison\n",
        "plt.figure(figsize=(8, 6))\n",
        "bar_width = 0.35\n",
        "index = np.arange(len(models))\n",
        "\n",
        "# Create bars for correct and incorrect predictions\n",
        "plt.bar(index, correct_preds, bar_width, color='green', label='Correct')\n",
        "plt.bar(index + bar_width, incorrect_preds, bar_width, color='red', label='Incorrect')\n",
        "\n",
        "# Labels and title\n",
        "plt.xlabel('Models')\n",
        "plt.ylabel('Count')\n",
        "plt.title('Correct vs Incorrect Predictions')\n",
        "plt.xticks(index + bar_width / 2, models)\n",
        "plt.legend()\n",
        "\n",
        "plt.tight_layout()\n",
        "plt.show()\n"
      ],
      "metadata": {
        "colab": {
          "base_uri": "https://localhost:8080/",
          "height": 211
        },
        "id": "KrReIRu6KZ17",
        "outputId": "8fe93671-7b08-4536-e6af-4ee1931db883"
      },
      "execution_count": null,
      "outputs": [
        {
          "output_type": "error",
          "ename": "NameError",
          "evalue": "name 'y_test' is not defined",
          "traceback": [
            "\u001b[0;31m---------------------------------------------------------------------------\u001b[0m",
            "\u001b[0;31mNameError\u001b[0m                                 Traceback (most recent call last)",
            "\u001b[0;32m<ipython-input-28-1e34c83b4cce>\u001b[0m in \u001b[0;36m<cell line: 0>\u001b[0;34m()\u001b[0m\n\u001b[1;32m      2\u001b[0m \u001b[0;34m\u001b[0m\u001b[0m\n\u001b[1;32m      3\u001b[0m \u001b[0;31m# For Logistic Regression\u001b[0m\u001b[0;34m\u001b[0m\u001b[0;34m\u001b[0m\u001b[0m\n\u001b[0;32m----> 4\u001b[0;31m \u001b[0mlr_cm\u001b[0m \u001b[0;34m=\u001b[0m \u001b[0mconfusion_matrix\u001b[0m\u001b[0;34m(\u001b[0m\u001b[0my_test\u001b[0m\u001b[0;34m,\u001b[0m \u001b[0mlr_predictions\u001b[0m\u001b[0;34m)\u001b[0m\u001b[0;34m\u001b[0m\u001b[0;34m\u001b[0m\u001b[0m\n\u001b[0m\u001b[1;32m      5\u001b[0m \u001b[0;31m# For GRU\u001b[0m\u001b[0;34m\u001b[0m\u001b[0;34m\u001b[0m\u001b[0m\n\u001b[1;32m      6\u001b[0m \u001b[0mgru_cm\u001b[0m \u001b[0;34m=\u001b[0m \u001b[0mconfusion_matrix\u001b[0m\u001b[0;34m(\u001b[0m\u001b[0my_test\u001b[0m\u001b[0;34m,\u001b[0m \u001b[0mgru_predictions\u001b[0m\u001b[0;34m)\u001b[0m\u001b[0;34m\u001b[0m\u001b[0;34m\u001b[0m\u001b[0m\n",
            "\u001b[0;31mNameError\u001b[0m: name 'y_test' is not defined"
          ]
        }
      ]
    },
    {
      "cell_type": "code",
      "source": [
        "from sklearn.metrics import confusion_matrix\n",
        "\n",
        "# For Logistic Regression\n",
        "lr_cm = confusion_matrix(y_test_ml, y_pred_log)  # Use y_test_ml and y_pred_log for Logistic Regression\n",
        "# For GRU\n",
        "gru_cm = confusion_matrix(y_valid, gru_predictions.astype(int)) # Use y_valid and gru_predictions for GRU, convert predictions to int\n",
        "# For BiLSTM\n",
        "bilstm_cm = confusion_matrix(y_valid, bilstm_predictions.astype(int)) # Use y_valid and bilstm_predictions for BiLSTM, convert predictions to int\n",
        "\n",
        "\n",
        "# Bar plot for each model's confusion matrix\n",
        "models = ['Logistic Regression', 'GRU', 'BiLSTM']\n",
        "correct_preds = [lr_cm[0,0] + lr_cm[1,1], gru_cm[0,0] + gru_cm[1,1], bilstm_cm[0,0] + bilstm_cm[1,1]]\n",
        "incorrect_preds = [lr_cm[0,1] + lr_cm[1,0], gru_cm[0,1] + gru_cm[1,0], bilstm_cm[0,1] + bilstm_cm[1,0]]\n",
        "\n",
        "# Bar plot for comparison\n",
        "plt.figure(figsize=(8, 6))\n",
        "bar_width = 0.35\n",
        "index = np.arange(len(models))\n",
        "\n",
        "# Create bars for correct and incorrect predictions\n",
        "plt.bar(index, correct_preds, bar_width, color='green', label='Correct')\n",
        "plt.bar(index + bar_width, incorrect_preds, bar_width, color='red', label='Incorrect')\n",
        "\n",
        "# Labels and title\n",
        "plt.xlabel('Models')\n",
        "plt.ylabel('Count')\n",
        "plt.title('Correct vs Incorrect Predictions')\n",
        "plt.xticks(index + bar_width / 2, models)\n",
        "plt.legend()\n",
        "\n",
        "plt.tight_layout()\n",
        "plt.show()"
      ],
      "metadata": {
        "colab": {
          "base_uri": "https://localhost:8080/",
          "height": 607
        },
        "id": "eoyYUpfqML3H",
        "outputId": "56c43b2d-ba21-430f-ef49-055a8b61807e"
      },
      "execution_count": null,
      "outputs": [
        {
          "output_type": "display_data",
          "data": {
            "text/plain": [
              "<Figure size 800x600 with 1 Axes>"
            ],
            "image/png": "[encoded data removed]"
          },
          "metadata": {}
        }
      ]
    },
    {
      "cell_type": "code",
      "source": [
        "# Sample product reviews (e-commerce data)\n",
        "sample_reviews = [\n",
        "    \"This phone is amazing, great features, and the camera quality is fantastic!\",\n",
        "    \"I didn't like the product, it stopped working after a week of use.\",\n",
        "    \"The shoes are comfortable, but they look a bit cheap in person.\",\n",
        "    \"Great value for money, very satisfied with my purchase.\",\n",
        "    \"Terrible customer service, will not buy from this seller again.\"\n",
        "]\n"
      ],
      "metadata": {
        "id": "XkNz59OQMZu6"
      },
      "execution_count": null,
      "outputs": []
    },
    {
      "cell_type": "code",
      "source": [
        "# Instead of:\n",
        "# from keras.preprocessing.text import Tokenizer\n",
        "# from keras.preprocessing.sequence import pad_sequences\n",
        "\n",
        "# Use:\n",
        "from tensorflow.keras.preprocessing.text import Tokenizer # Import Tokenizer from tensorflow.keras.preprocessing.text\n",
        "from tensorflow.keras.preprocessing.sequence import pad_sequences # Import pad_sequences from tensorflow.keras.preprocessing.sequence\n",
        "from sklearn.feature_extraction.text import TfidfVectorizer\n",
        "\n",
        "# Preprocessing for BiLSTM and GRU (tokenization and padding)\n",
        "tokenizer = Tokenizer(num_words=5000)\n",
        "tokenizer.fit_on_texts(sample_reviews)\n",
        "sample_reviews_seq = tokenizer.texts_to_sequences(sample_reviews)\n",
        "sample_reviews_padded = pad_sequences(sample_reviews_seq, padding='post', maxlen=100)\n",
        "\n",
        "# Preprocessing for Logistic Regression (using TF-IDF)\n",
        "tfidf_vectorizer = TfidfVectorizer(max_features=5000)\n",
        "sample_reviews_tfidf = tfidf_vectorizer.fit_transform(sample_reviews)\n"
      ],
      "metadata": {
        "id": "xmhtmnEDNFQ1"
      },
      "execution_count": null,
      "outputs": []
    },
    {
      "cell_type": "code",
      "source": [
        "from tensorflow.keras.preprocessing.text import Tokenizer # Import Tokenizer from tensorflow.keras.preprocessing.text\n",
        "from tensorflow.keras.preprocessing.sequence import pad_sequences # Import pad_sequences from tensorflow.keras.preprocessing.sequence\n",
        "from sklearn.feature_extraction.text import TfidfVectorizer\n",
        "\n",
        "# Preprocessing for BiLSTM and GRU (tokenization and padding)\n",
        "tokenizer = Tokenizer(num_words=5000)\n",
        "tokenizer.fit_on_texts(sample_reviews)\n",
        "sample_reviews_seq = tokenizer.texts_to_sequences(sample_reviews)\n",
        "sample_reviews_padded = pad_sequences(sample_reviews_seq, padding='post', maxlen=100)\n",
        "\n",
        "# Preprocessing for Logistic Regression (using TF-IDF)\n",
        "tfidf_vectorizer = TfidfVectorizer(max_features=5000)\n",
        "sample_reviews_tfidf = tfidf_vectorizer.fit_transform(sample_reviews)"
      ],
      "metadata": {
        "id": "MB2OwbrgRjlv"
      },
      "execution_count": null,
      "outputs": []
    },
    {
      "cell_type": "code",
      "source": [
        "!pip install requests beautifulsoup4 lxml\n",
        "import requests\n",
        "from bs4 import BeautifulSoup\n",
        "\n",
        "def get_amazon_reviews(url):\n",
        "    headers = {\"User-Agent\": \"Mozilla/5.0\"}\n",
        "    html = requests.get(url, headers=headers).text\n",
        "    soup = BeautifulSoup(html, \"lxml\")\n",
        "    reviews = soup.find_all(\"span\", {\"data-hook\": \"review-body\"})\n",
        "    return [rev.text.strip() for rev in reviews[:5]]\n",
        "\n",
        "def predict_reviews(reviews, dl_model, clean_text, tokenizer, max_len=100): # Added dl_model, clean_text, tokenizer, and max_len\n",
        "    cleaned = [clean_text(r) for r in reviews]\n",
        "    seq = tokenizer.texts_to_sequences(cleaned)\n",
        "    pad = pad_sequences(seq, maxlen=max_len)\n",
        "    preds = (dl_model.predict(pad) > 0.5).astype(int)\n",
        "    for i, r in enumerate(reviews):\n",
        "        print(f\"\\nReview: {r}\\nPrediction: {'REAL' if preds[i]==1 else 'FAKE'}\")\n",
        "\n",
        "sample_url = \"https://www.amazon.com/product-reviews/B07FZ8S74R\"\n",
        "reviews = get_amazon_reviews(sample_url)\n",
        "\n",
        "# Assuming you have defined dl_model, clean_text, tokenizer somewhere in your notebook\n",
        "# For example:\n",
        "# dl_model = bilstm_model  # or gru_model\n",
        "# def clean_text(text): # Assuming clean_text is defined in previous cells\n",
        "#    # Preprocessing logic\n",
        "#    return processed_text\n",
        "\n",
        "# You need to define clean_text function based on your preprocessing logic\n",
        "\n",
        "# Call predict_reviews with necessary arguments\n",
        "#predict_reviews(reviews, dl_model, clean_text, tokenizer) # Call with your model and preprocessing function"
      ],
      "metadata": {
        "colab": {
          "base_uri": "https://localhost:8080/"
        },
        "id": "GqFQ128NUKob",
        "outputId": "a64e20d1-5705-4b59-9019-ce903b4ae604"
      },
      "execution_count": null,
      "outputs": [
        {
          "output_type": "stream",
          "name": "stdout",
          "text": [
            "Requirement already satisfied: requests in /usr/local/lib/python3.11/dist-packages (2.32.3)\n",
            "Requirement already satisfied: beautifulsoup4 in /usr/local/lib/python3.11/dist-packages (4.13.4)\n",
            "Requirement already satisfied: lxml in /usr/local/lib/python3.11/dist-packages (5.4.0)\n",
            "Requirement already satisfied: charset-normalizer<4,>=2 in /usr/local/lib/python3.11/dist-packages (from requests) (3.4.1)\n",
            "Requirement already satisfied: idna<4,>=2.5 in /usr/local/lib/python3.11/dist-packages (from requests) (3.10)\n",
            "Requirement already satisfied: urllib3<3,>=1.21.1 in /usr/local/lib/python3.11/dist-packages (from requests) (2.4.0)\n",
            "Requirement already satisfied: certifi>=2017.4.17 in /usr/local/lib/python3.11/dist-packages (from requests) (2025.1.31)\n",
            "Requirement already satisfied: soupsieve>1.2 in /usr/local/lib/python3.11/dist-packages (from beautifulsoup4) (2.7)\n",
            "Requirement already satisfied: typing-extensions>=4.0.0 in /usr/local/lib/python3.11/dist-packages (from beautifulsoup4) (4.13.2)\n"
          ]
        }
      ]
    },
    {
      "cell_type": "code",
      "source": [
        "# Sample real-time reviews\n",
        "reviews = [\n",
        "    \"I bought this phone and it broke within a month. I’m very disappointed.\",\n",
        "    \"Excellent product! The screen is bright and clear, and the battery lasts all day.\",\n",
        "    \"The item did not match the description. Very poor experience.\",\n",
        "    \"Highly recommended. The build quality is great and the performance is smooth.\",\n",
        "]\n",
        "\n",
        "# Function to preprocess input review like training data\n",
        "def preprocess_review(review, tokenizer, maxlen):\n",
        "    seq = tokenizer.texts_to_sequences([review])\n",
        "    padded = pad_sequences(seq, maxlen=maxlen, padding='post', truncating='post')\n",
        "    return padded\n",
        "\n",
        "print(\"\\nReal-Time Review Predictions:\\n\")\n",
        "for i, review in enumerate(reviews):\n",
        "    # Logistic Regression prediction\n",
        "    review_vec = vectorizer.transform([review])\n",
        "    # Changed logistic_model to log_model (assuming it was a typo)\n",
        "    lr_pred = log_model.predict(review_vec)[0]\n",
        "\n",
        "    # BiLSTM prediction\n",
        "    bilstm_input = preprocess_review(review, tokenizer, 250) # Adjusted maxlen to match BiLSTM input\n",
        "    bilstm_prob = bilstm_model.predict(bilstm_input, verbose=0)[0][0]\n",
        "    bilstm_pred = int(bilstm_prob > 0.5)\n",
        "\n",
        "    # GRU prediction\n",
        "    gru_prob = gru_model.predict(bilstm_input, verbose=0)[0][0]\n",
        "    gru_pred = int(gru_prob > 0.5)\n",
        "\n",
        "    print(f\"Review {i+1}: {review}\")\n",
        "    print(f\"Predicted by Logistic Regression: {'Real' if lr_pred == 1 else 'Fake'}\")\n",
        "    print(f\"Predicted by BiLSTM: {'Real' if bilstm_pred == 1 else 'Fake'}\")\n",
        "    print(f\"Predicted by GRU: {'Real' if gru_pred == 1 else 'Fake'}\")\n",
        "    print(\"-\" * 100)"
      ],
      "metadata": {
        "colab": {
          "base_uri": "https://localhost:8080/"
        },
        "id": "M63CKBqLVyrB",
        "outputId": "a5c275e8-dd71-4197-8c66-9bdb0a1dab48"
      },
      "execution_count": null,
      "outputs": [
        {
          "output_type": "stream",
          "name": "stdout",
          "text": [
            "\n",
            "Real-Time Review Predictions:\n",
            "\n",
            "Review 1: I bought this phone and it broke within a month. I’m very disappointed.\n",
            "Predicted by Logistic Regression: Real\n",
            "Predicted by BiLSTM: Real\n",
            "Predicted by GRU: Real\n",
            "----------------------------------------------------------------------------------------------------\n",
            "Review 2: Excellent product! The screen is bright and clear, and the battery lasts all day.\n",
            "Predicted by Logistic Regression: Real\n",
            "Predicted by BiLSTM: Real\n",
            "Predicted by GRU: Real\n",
            "----------------------------------------------------------------------------------------------------\n",
            "Review 3: The item did not match the description. Very poor experience.\n",
            "Predicted by Logistic Regression: Real\n",
            "Predicted by BiLSTM: Real\n",
            "Predicted by GRU: Real\n",
            "----------------------------------------------------------------------------------------------------\n",
            "Review 4: Highly recommended. The build quality is great and the performance is smooth.\n",
            "Predicted by Logistic Regression: Real\n",
            "Predicted by BiLSTM: Real\n",
            "Predicted by GRU: Real\n",
            "----------------------------------------------------------------------------------------------------\n"
          ]
        }
      ]
    },
    {
      "cell_type": "code",
      "source": [
        "fake_reviews = [\n",
        "    \"Absolutely amazing product! Changed my life in every way! A must buy for everyone!!!\",\n",
        "    \"Best phone ever!!! Works like a charm. I've bought 10 of them already!\",\n",
        "    \"This vacuum cleaner cured my back pain and made me rich. 10/10 would buy again!\",\n",
        "    \"The moment I opened the box, I cried tears of joy. Unbelievable quality and power!\",\n",
        "]\n",
        "\n"
      ],
      "metadata": {
        "id": "Gn1UiWbCWMux"
      },
      "execution_count": null,
      "outputs": []
    },
    {
      "cell_type": "code",
      "source": [
        "\n",
        "# Function to preprocess input review like training data\n",
        "def preprocess_review(review, tokenizer, maxlen):\n",
        "    seq = tokenizer.texts_to_sequences([review])\n",
        "    padded = pad_sequences(seq, maxlen=maxlen, padding='post', truncating='post')\n",
        "    return padded\n",
        "maxlen =100\n",
        "print(\"\\nReal-Time Review Predictions:\\n\")\n",
        "for i, review in enumerate(fake_reviews):\n",
        "    # Logistic Regression prediction\n",
        "    review_vec = vectorizer.transform([review])\n",
        "    # Use log_model instead of logistic_model for prediction\n",
        "    lr_pred = log_model.predict(review_vec)[0]\n",
        "\n",
        "    # BiLSTM prediction\n",
        "    bilstm_input = preprocess_review(review, tokenizer, maxlen)\n",
        "    bilstm_prob = bilstm_model.predict(bilstm_input, verbose=0)[0][0]\n",
        "    bilstm_pred = int(bilstm_prob > 0.5)\n",
        "\n",
        "    # GRU prediction\n",
        "    gru_prob = gru_model.predict(bilstm_input, verbose=0)[0][0]\n",
        "    gru_pred = int(gru_prob > 0.5)\n",
        "\n",
        "    print(f\"Review {i+1}: {review}\")\n",
        "    print(f\"Predicted by Logistic Regression: {'Real' if lr_pred == 1 else 'Fake'}\")\n",
        "    print(f\"Predicted by BiLSTM: {'Real' if bilstm_pred == 1 else 'Fake'}\")\n",
        "    print(f\"Predicted by GRU: {'Real' if gru_pred == 1 else 'Fake'}\")\n",
        "    print(\"-\" * 100)"
      ],
      "metadata": {
        "colab": {
          "base_uri": "https://localhost:8080/"
        },
        "id": "ndjwLz6CWPFj",
        "outputId": "9c3073a3-4911-45f6-fa89-e6b2398b6676"
      },
      "execution_count": null,
      "outputs": [
        {
          "output_type": "stream",
          "name": "stdout",
          "text": [
            "\n",
            "Real-Time Review Predictions:\n",
            "\n",
            "Review 1: Absolutely amazing product! Changed my life in every way! A must buy for everyone!!!\n",
            "Predicted by Logistic Regression: Real\n",
            "Predicted by BiLSTM: Real\n",
            "Predicted by GRU: Real\n",
            "----------------------------------------------------------------------------------------------------\n",
            "Review 2: Best phone ever!!! Works like a charm. I've bought 10 of them already!\n",
            "Predicted by Logistic Regression: Real\n",
            "Predicted by BiLSTM: Real\n",
            "Predicted by GRU: Real\n",
            "----------------------------------------------------------------------------------------------------\n",
            "Review 3: This vacuum cleaner cured my back pain and made me rich. 10/10 would buy again!\n",
            "Predicted by Logistic Regression: Real\n",
            "Predicted by BiLSTM: Real\n",
            "Predicted by GRU: Real\n",
            "----------------------------------------------------------------------------------------------------\n",
            "Review 4: The moment I opened the box, I cried tears of joy. Unbelievable quality and power!\n",
            "Predicted by Logistic Regression: Real\n",
            "Predicted by BiLSTM: Real\n",
            "Predicted by GRU: Real\n",
            "----------------------------------------------------------------------------------------------------\n"
          ]
        }
      ]
    },
    {
      "cell_type": "code",
      "source": [
        "import matplotlib.pyplot as plt\n",
        "from sklearn.metrics import confusion_matrix, ConfusionMatrixDisplay\n",
        "import seaborn as sns\n",
        "import numpy as np\n",
        "\n",
        "# 1. Evaluate BiLSTM\n",
        "bilstm_loss, bilstm_accuracy = bilstm_model.evaluate(X_test_padded, y_test, verbose=0)\n",
        "y_pred_bilstm = (bilstm_model.predict(X_test_padded) > 0.5).astype(\"int32\")\n",
        "\n",
        "# 2. Evaluate GRU\n",
        "gru_loss, gru_accuracy = gru_model.evaluate(X_test_padded, y_test, verbose=0)\n",
        "y_pred_gru = (gru_model.predict(X_test_padded) > 0.5).astype(\"int32\")\n",
        "\n",
        "# 3. Confusion Matrix - BiLSTM\n",
        "cm_bilstm = confusion_matrix(y_test, y_pred_bilstm)\n",
        "disp_bilstm = ConfusionMatrixDisplay(confusion_matrix=cm_bilstm)\n",
        "disp_bilstm.plot(cmap='Blues')\n",
        "plt.title(\"Confusion Matrix - BiLSTM\")\n",
        "plt.show()\n",
        "\n",
        "# 4. Confusion Matrix - GRU\n",
        "cm_gru = confusion_matrix(y_test, y_pred_gru)\n",
        "disp_gru = ConfusionMatrixDisplay(confusion_matrix=cm_gru)\n",
        "disp_gru.plot(cmap='Greens')\n",
        "plt.title(\"Confusion Matrix - GRU\")\n",
        "plt.show()\n",
        "\n",
        "# 5. Bar Chart for Accuracy Comparison\n",
        "models = ['BiLSTM', 'GRU']\n",
        "accuracies = [bilstm_accuracy, gru_accuracy]\n",
        "colors = ['skyblue', 'lightgreen']\n",
        "\n",
        "plt.figure(figsize=(8, 5))\n",
        "bars = plt.bar(models, accuracies, color=colors)\n",
        "for bar in bars:\n",
        "    yval = bar.get_height()\n",
        "    plt.text(bar.get_x() + 0.25, yval + 0.01, f\"{yval:.2f}\")\n",
        "plt.ylim(0, 1)\n",
        "plt.ylabel('Accuracy')\n",
        "plt.title('Comparison of Model Accuracies')\n",
        "plt.grid(axis='y', linestyle='--', alpha=0.6)\n",
        "plt.show()\n"
      ],
      "metadata": {
        "id": "0nItXKeBbfkZ",
        "outputId": "0d5891a0-e48a-4791-ce07-722be0702982",
        "colab": {
          "base_uri": "https://localhost:8080/",
          "height": 211
        }
      },
      "execution_count": null,
      "outputs": [
        {
          "output_type": "error",
          "ename": "NameError",
          "evalue": "name 'X_test_padded' is not defined",
          "traceback": [
            "\u001b[0;31m---------------------------------------------------------------------------\u001b[0m",
            "\u001b[0;31mNameError\u001b[0m                                 Traceback (most recent call last)",
            "\u001b[0;32m<ipython-input-30-d344458838b3>\u001b[0m in \u001b[0;36m<cell line: 0>\u001b[0;34m()\u001b[0m\n\u001b[1;32m      5\u001b[0m \u001b[0;34m\u001b[0m\u001b[0m\n\u001b[1;32m      6\u001b[0m \u001b[0;31m# 1. Evaluate BiLSTM\u001b[0m\u001b[0;34m\u001b[0m\u001b[0;34m\u001b[0m\u001b[0m\n\u001b[0;32m----> 7\u001b[0;31m \u001b[0mbilstm_loss\u001b[0m\u001b[0;34m,\u001b[0m \u001b[0mbilstm_accuracy\u001b[0m \u001b[0;34m=\u001b[0m \u001b[0mbilstm_model\u001b[0m\u001b[0;34m.\u001b[0m\u001b[0mevaluate\u001b[0m\u001b[0;34m(\u001b[0m\u001b[0mX_test_padded\u001b[0m\u001b[0;34m,\u001b[0m \u001b[0my_test\u001b[0m\u001b[0;34m,\u001b[0m \u001b[0mverbose\u001b[0m\u001b[0;34m=\u001b[0m\u001b[0;36m0\u001b[0m\u001b[0;34m)\u001b[0m\u001b[0;34m\u001b[0m\u001b[0;34m\u001b[0m\u001b[0m\n\u001b[0m\u001b[1;32m      8\u001b[0m \u001b[0my_pred_bilstm\u001b[0m \u001b[0;34m=\u001b[0m \u001b[0;34m(\u001b[0m\u001b[0mbilstm_model\u001b[0m\u001b[0;34m.\u001b[0m\u001b[0mpredict\u001b[0m\u001b[0;34m(\u001b[0m\u001b[0mX_test_padded\u001b[0m\u001b[0;34m)\u001b[0m \u001b[0;34m>\u001b[0m \u001b[0;36m0.5\u001b[0m\u001b[0;34m)\u001b[0m\u001b[0;34m.\u001b[0m\u001b[0mastype\u001b[0m\u001b[0;34m(\u001b[0m\u001b[0;34m\"int32\"\u001b[0m\u001b[0;34m)\u001b[0m\u001b[0;34m\u001b[0m\u001b[0;34m\u001b[0m\u001b[0m\n\u001b[1;32m      9\u001b[0m \u001b[0;34m\u001b[0m\u001b[0m\n",
            "\u001b[0;31mNameError\u001b[0m: name 'X_test_padded' is not defined"
          ]
        }
      ]
    }
  ]
}